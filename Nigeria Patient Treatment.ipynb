{
 "cells": [
  {
   "cell_type": "code",
   "execution_count": 114,
   "metadata": {},
   "outputs": [],
   "source": [
    "#Dataset used for the analysis can be found below\n",
    "#https://www.kaggle.com/competitions/data-science-nigeria-patient-treatment/data\n",
    "\n",
    "#We begin with the usual importing of all the required libraries for EDA and visualization\n",
    "\n",
    "import pandas as pd\n",
    "import numpy as np\n",
    "import seaborn as sns\n",
    "import matplotlib.pyplot as plt"
   ]
  },
  {
   "cell_type": "code",
   "execution_count": 1,
   "metadata": {},
   "outputs": [
    {
     "name": "stdout",
     "output_type": "stream",
     "text": [
      "C:\\Users\\hp\\downloads\n"
     ]
    }
   ],
   "source": [
    "cd downloads"
   ]
  },
  {
   "cell_type": "code",
   "execution_count": 118,
   "metadata": {},
   "outputs": [],
   "source": [
    "#Importing Data for the Analysis \n",
    "patient_treatment=pd.read_csv(\"train.csv\")\n",
    "testing=pd.read_csv(\"test.csv\")"
   ]
  },
  {
   "cell_type": "code",
   "execution_count": 143,
   "metadata": {},
   "outputs": [],
   "source": [
    "samplesubmission=pd.read_csv(\"sample_submission.csv\")"
   ]
  },
  {
   "cell_type": "code",
   "execution_count": 120,
   "metadata": {},
   "outputs": [
    {
     "data": {
      "text/html": [
       "<div>\n",
       "<style scoped>\n",
       "    .dataframe tbody tr th:only-of-type {\n",
       "        vertical-align: middle;\n",
       "    }\n",
       "\n",
       "    .dataframe tbody tr th {\n",
       "        vertical-align: top;\n",
       "    }\n",
       "\n",
       "    .dataframe thead th {\n",
       "        text-align: right;\n",
       "    }\n",
       "</style>\n",
       "<table border=\"1\" class=\"dataframe\">\n",
       "  <thead>\n",
       "    <tr style=\"text-align: right;\">\n",
       "      <th></th>\n",
       "      <th>patient_id_</th>\n",
       "      <th>HAEMATOCRIT</th>\n",
       "      <th>HAEMOGLOBINS</th>\n",
       "      <th>ERYTHROCYTE</th>\n",
       "      <th>LEUCOCYTE</th>\n",
       "      <th>THROMBOCYTE</th>\n",
       "      <th>MCH</th>\n",
       "      <th>MCHC</th>\n",
       "      <th>MCV</th>\n",
       "      <th>AGE</th>\n",
       "      <th>SEX</th>\n",
       "      <th>SOURCE</th>\n",
       "    </tr>\n",
       "  </thead>\n",
       "  <tbody>\n",
       "    <tr>\n",
       "      <th>0</th>\n",
       "      <td>patient_id_1270</td>\n",
       "      <td>43.6</td>\n",
       "      <td>14.5</td>\n",
       "      <td>5.52</td>\n",
       "      <td>3.0</td>\n",
       "      <td>237</td>\n",
       "      <td>27.5</td>\n",
       "      <td>33.6</td>\n",
       "      <td>81.7</td>\n",
       "      <td>32</td>\n",
       "      <td>F</td>\n",
       "      <td>0</td>\n",
       "    </tr>\n",
       "    <tr>\n",
       "      <th>1</th>\n",
       "      <td>patient_id_1762</td>\n",
       "      <td>44.3</td>\n",
       "      <td>14.4</td>\n",
       "      <td>5.09</td>\n",
       "      <td>7.3</td>\n",
       "      <td>255</td>\n",
       "      <td>29.7</td>\n",
       "      <td>32.9</td>\n",
       "      <td>90.4</td>\n",
       "      <td>40</td>\n",
       "      <td>M</td>\n",
       "      <td>0</td>\n",
       "    </tr>\n",
       "    <tr>\n",
       "      <th>2</th>\n",
       "      <td>patient_id_3355</td>\n",
       "      <td>36.2</td>\n",
       "      <td>12.5</td>\n",
       "      <td>4.57</td>\n",
       "      <td>7.8</td>\n",
       "      <td>263</td>\n",
       "      <td>28.9</td>\n",
       "      <td>35.0</td>\n",
       "      <td>82.6</td>\n",
       "      <td>65</td>\n",
       "      <td>F</td>\n",
       "      <td>0</td>\n",
       "    </tr>\n",
       "    <tr>\n",
       "      <th>3</th>\n",
       "      <td>patient_id_2443</td>\n",
       "      <td>46.1</td>\n",
       "      <td>14.7</td>\n",
       "      <td>5.38</td>\n",
       "      <td>8.5</td>\n",
       "      <td>320</td>\n",
       "      <td>28.6</td>\n",
       "      <td>32.2</td>\n",
       "      <td>88.8</td>\n",
       "      <td>52</td>\n",
       "      <td>M</td>\n",
       "      <td>0</td>\n",
       "    </tr>\n",
       "    <tr>\n",
       "      <th>4</th>\n",
       "      <td>patient_id_3414</td>\n",
       "      <td>31.8</td>\n",
       "      <td>10.9</td>\n",
       "      <td>4.05</td>\n",
       "      <td>26.9</td>\n",
       "      <td>220</td>\n",
       "      <td>28.6</td>\n",
       "      <td>34.8</td>\n",
       "      <td>82.3</td>\n",
       "      <td>66</td>\n",
       "      <td>F</td>\n",
       "      <td>1</td>\n",
       "    </tr>\n",
       "  </tbody>\n",
       "</table>\n",
       "</div>"
      ],
      "text/plain": [
       "       patient_id_  HAEMATOCRIT  HAEMOGLOBINS  ERYTHROCYTE  LEUCOCYTE  \\\n",
       "0  patient_id_1270         43.6          14.5         5.52        3.0   \n",
       "1  patient_id_1762         44.3          14.4         5.09        7.3   \n",
       "2  patient_id_3355         36.2          12.5         4.57        7.8   \n",
       "3  patient_id_2443         46.1          14.7         5.38        8.5   \n",
       "4  patient_id_3414         31.8          10.9         4.05       26.9   \n",
       "\n",
       "   THROMBOCYTE   MCH  MCHC   MCV  AGE SEX  SOURCE  \n",
       "0          237  27.5  33.6  81.7   32   F       0  \n",
       "1          255  29.7  32.9  90.4   40   M       0  \n",
       "2          263  28.9  35.0  82.6   65   F       0  \n",
       "3          320  28.6  32.2  88.8   52   M       0  \n",
       "4          220  28.6  34.8  82.3   66   F       1  "
      ]
     },
     "execution_count": 120,
     "metadata": {},
     "output_type": "execute_result"
    }
   ],
   "source": [
    "patient_treatment.head(5)"
   ]
  },
  {
   "cell_type": "code",
   "execution_count": 121,
   "metadata": {},
   "outputs": [
    {
     "data": {
      "text/html": [
       "<div>\n",
       "<style scoped>\n",
       "    .dataframe tbody tr th:only-of-type {\n",
       "        vertical-align: middle;\n",
       "    }\n",
       "\n",
       "    .dataframe tbody tr th {\n",
       "        vertical-align: top;\n",
       "    }\n",
       "\n",
       "    .dataframe thead th {\n",
       "        text-align: right;\n",
       "    }\n",
       "</style>\n",
       "<table border=\"1\" class=\"dataframe\">\n",
       "  <thead>\n",
       "    <tr style=\"text-align: right;\">\n",
       "      <th></th>\n",
       "      <th>patient_id_</th>\n",
       "      <th>HAEMATOCRIT</th>\n",
       "      <th>HAEMOGLOBINS</th>\n",
       "      <th>ERYTHROCYTE</th>\n",
       "      <th>LEUCOCYTE</th>\n",
       "      <th>THROMBOCYTE</th>\n",
       "      <th>MCH</th>\n",
       "      <th>MCHC</th>\n",
       "      <th>MCV</th>\n",
       "      <th>AGE</th>\n",
       "      <th>SEX</th>\n",
       "    </tr>\n",
       "  </thead>\n",
       "  <tbody>\n",
       "    <tr>\n",
       "      <th>0</th>\n",
       "      <td>patient_id_4373</td>\n",
       "      <td>33.0</td>\n",
       "      <td>11.1</td>\n",
       "      <td>4.15</td>\n",
       "      <td>11.1</td>\n",
       "      <td>329</td>\n",
       "      <td>28.4</td>\n",
       "      <td>34.1</td>\n",
       "      <td>83.2</td>\n",
       "      <td>89</td>\n",
       "      <td>F</td>\n",
       "    </tr>\n",
       "    <tr>\n",
       "      <th>1</th>\n",
       "      <td>patient_id_2204</td>\n",
       "      <td>34.0</td>\n",
       "      <td>11.1</td>\n",
       "      <td>4.23</td>\n",
       "      <td>9.7</td>\n",
       "      <td>120</td>\n",
       "      <td>27.9</td>\n",
       "      <td>33.1</td>\n",
       "      <td>84.1</td>\n",
       "      <td>47</td>\n",
       "      <td>F</td>\n",
       "    </tr>\n",
       "    <tr>\n",
       "      <th>2</th>\n",
       "      <td>patient_id_93</td>\n",
       "      <td>42.4</td>\n",
       "      <td>14.1</td>\n",
       "      <td>5.71</td>\n",
       "      <td>4.3</td>\n",
       "      <td>239</td>\n",
       "      <td>25.8</td>\n",
       "      <td>33.6</td>\n",
       "      <td>76.7</td>\n",
       "      <td>3</td>\n",
       "      <td>M</td>\n",
       "    </tr>\n",
       "    <tr>\n",
       "      <th>3</th>\n",
       "      <td>patient_id_798</td>\n",
       "      <td>40.3</td>\n",
       "      <td>13.4</td>\n",
       "      <td>5.19</td>\n",
       "      <td>4.7</td>\n",
       "      <td>208</td>\n",
       "      <td>27.1</td>\n",
       "      <td>33.7</td>\n",
       "      <td>80.5</td>\n",
       "      <td>25</td>\n",
       "      <td>F</td>\n",
       "    </tr>\n",
       "    <tr>\n",
       "      <th>4</th>\n",
       "      <td>patient_id_789</td>\n",
       "      <td>33.3</td>\n",
       "      <td>11.4</td>\n",
       "      <td>4.28</td>\n",
       "      <td>7.5</td>\n",
       "      <td>206</td>\n",
       "      <td>28.3</td>\n",
       "      <td>34.7</td>\n",
       "      <td>81.3</td>\n",
       "      <td>25</td>\n",
       "      <td>F</td>\n",
       "    </tr>\n",
       "  </tbody>\n",
       "</table>\n",
       "</div>"
      ],
      "text/plain": [
       "       patient_id_  HAEMATOCRIT  HAEMOGLOBINS  ERYTHROCYTE  LEUCOCYTE  \\\n",
       "0  patient_id_4373         33.0          11.1         4.15       11.1   \n",
       "1  patient_id_2204         34.0          11.1         4.23        9.7   \n",
       "2    patient_id_93         42.4          14.1         5.71        4.3   \n",
       "3   patient_id_798         40.3          13.4         5.19        4.7   \n",
       "4   patient_id_789         33.3          11.4         4.28        7.5   \n",
       "\n",
       "   THROMBOCYTE   MCH  MCHC   MCV  AGE SEX  \n",
       "0          329  28.4  34.1  83.2   89   F  \n",
       "1          120  27.9  33.1  84.1   47   F  \n",
       "2          239  25.8  33.6  76.7    3   M  \n",
       "3          208  27.1  33.7  80.5   25   F  \n",
       "4          206  28.3  34.7  81.3   25   F  "
      ]
     },
     "execution_count": 121,
     "metadata": {},
     "output_type": "execute_result"
    }
   ],
   "source": [
    "testing.head(5)"
   ]
  },
  {
   "cell_type": "code",
   "execution_count": 122,
   "metadata": {},
   "outputs": [
    {
     "data": {
      "text/plain": [
       "(1324, 10)"
      ]
     },
     "execution_count": 122,
     "metadata": {},
     "output_type": "execute_result"
    }
   ],
   "source": [
    "##checking Data Shape\n",
    "patient_treatment_test.shape"
   ]
  },
  {
   "cell_type": "code",
   "execution_count": 123,
   "metadata": {},
   "outputs": [],
   "source": [
    "## dropping the ID variable from both train and test data\n",
    "patient_treatment.drop([\"patient_id_\"], axis=\"columns\", inplace=True )\n",
    "testing.drop([\"patient_id_\"], axis=\"columns\", inplace=True )"
   ]
  },
  {
   "cell_type": "code",
   "execution_count": 125,
   "metadata": {},
   "outputs": [],
   "source": []
  },
  {
   "cell_type": "code",
   "execution_count": 85,
   "metadata": {},
   "outputs": [
    {
     "name": "stdout",
     "output_type": "stream",
     "text": [
      "      HAEMATOCRIT  HAEMOGLOBINS  ERYTHROCYTE  LEUCOCYTE  THROMBOCYTE   MCH  \\\n",
      "0            43.6          14.5         5.52        3.0          237  27.5   \n",
      "1            44.3          14.4         5.09        7.3          255  29.7   \n",
      "2            36.2          12.5         4.57        7.8          263  28.9   \n",
      "3            46.1          14.7         5.38        8.5          320  28.6   \n",
      "4            31.8          10.9         4.05       26.9          220  28.6   \n",
      "...           ...           ...          ...        ...          ...   ...   \n",
      "3083         40.5          13.8         4.54       10.9          290  32.1   \n",
      "3084         28.8          10.5         3.49       20.6          735  32.3   \n",
      "3085         45.9          15.4         5.64        3.9          281  28.5   \n",
      "3086         32.6          10.2         5.36        4.4          303  20.0   \n",
      "3087         41.5          14.0         5.23        4.3          176  28.1   \n",
      "\n",
      "      MCHC   MCV  AGE  SEX  SOURCE  \n",
      "0     33.6  81.7   32    0       0  \n",
      "1     32.9  90.4   40    1       0  \n",
      "2     35.0  82.6   65    0       0  \n",
      "3     32.2  88.8   52    1       0  \n",
      "4     34.8  82.3   66    0       1  \n",
      "...    ...   ...  ...  ...     ...  \n",
      "3083  34.5  93.1   79    1       0  \n",
      "3084  37.1  87.2   43    0       1  \n",
      "3085  33.9  84.2   14    1       0  \n",
      "3086  31.8  62.9    3    1       1  \n",
      "3087  34.1  82.3   74    0       0  \n",
      "\n",
      "[3088 rows x 11 columns]\n",
      "      HAEMATOCRIT  HAEMOGLOBINS  ERYTHROCYTE  LEUCOCYTE  THROMBOCYTE   MCH  \\\n",
      "0            33.0          11.1         4.15       11.1          329  28.4   \n",
      "1            34.0          11.1         4.23        9.7          120  27.9   \n",
      "2            42.4          14.1         5.71        4.3          239  25.8   \n",
      "3            40.3          13.4         5.19        4.7          208  27.1   \n",
      "4            33.3          11.4         4.28        7.5          206  28.3   \n",
      "...           ...           ...          ...        ...          ...   ...   \n",
      "1319         40.5          12.7         4.89        9.5          436  27.4   \n",
      "1320         38.2          13.1         4.71       13.8          180  29.3   \n",
      "1321         35.2          11.9         4.74        7.4          303  26.5   \n",
      "1322         36.9          12.0         4.42       11.4          306  28.7   \n",
      "1323         35.1          11.4         4.07       11.9          267  29.8   \n",
      "\n",
      "      MCHC   MCV  AGE  SEX  \n",
      "0     34.1  83.2   89    0  \n",
      "1     33.1  84.1   47    0  \n",
      "2     33.6  76.7    3    0  \n",
      "3     33.7  80.5   25    0  \n",
      "4     34.7  81.3   25    0  \n",
      "...    ...   ...  ...  ...  \n",
      "1319  31.8  86.1   45    0  \n",
      "1320  34.7  84.4   41    0  \n",
      "1321  34.3  77.3   39    0  \n",
      "1322  33.0  87.2   70    0  \n",
      "1323  33.0  90.4   60    0  \n",
      "\n",
      "[1324 rows x 10 columns]\n"
     ]
    }
   ],
   "source": [
    "print(patient_treatment)\n",
    "print(patient_treatment_test)"
   ]
  },
  {
   "cell_type": "code",
   "execution_count": 127,
   "metadata": {},
   "outputs": [],
   "source": [
    "##Coverting SEX variable to numerical from string \n",
    "patient_treatment[\"SEX\"]=patient_treatment[\"SEX\"].apply(lambda x: 1 if x==\"M\" else 0)\n",
    "testing[\"SEX\"]=testing[\"SEX\"].apply(lambda x: 1 if x==\"M\" else 0)"
   ]
  },
  {
   "cell_type": "code",
   "execution_count": 128,
   "metadata": {},
   "outputs": [
    {
     "data": {
      "text/html": [
       "<div>\n",
       "<style scoped>\n",
       "    .dataframe tbody tr th:only-of-type {\n",
       "        vertical-align: middle;\n",
       "    }\n",
       "\n",
       "    .dataframe tbody tr th {\n",
       "        vertical-align: top;\n",
       "    }\n",
       "\n",
       "    .dataframe thead th {\n",
       "        text-align: right;\n",
       "    }\n",
       "</style>\n",
       "<table border=\"1\" class=\"dataframe\">\n",
       "  <thead>\n",
       "    <tr style=\"text-align: right;\">\n",
       "      <th></th>\n",
       "      <th>HAEMATOCRIT</th>\n",
       "      <th>HAEMOGLOBINS</th>\n",
       "      <th>ERYTHROCYTE</th>\n",
       "      <th>LEUCOCYTE</th>\n",
       "      <th>THROMBOCYTE</th>\n",
       "      <th>MCH</th>\n",
       "      <th>MCHC</th>\n",
       "      <th>MCV</th>\n",
       "      <th>AGE</th>\n",
       "      <th>SEX</th>\n",
       "    </tr>\n",
       "  </thead>\n",
       "  <tbody>\n",
       "    <tr>\n",
       "      <th>0</th>\n",
       "      <td>33.0</td>\n",
       "      <td>11.1</td>\n",
       "      <td>4.15</td>\n",
       "      <td>11.1</td>\n",
       "      <td>329</td>\n",
       "      <td>28.4</td>\n",
       "      <td>34.1</td>\n",
       "      <td>83.2</td>\n",
       "      <td>89</td>\n",
       "      <td>0</td>\n",
       "    </tr>\n",
       "    <tr>\n",
       "      <th>1</th>\n",
       "      <td>34.0</td>\n",
       "      <td>11.1</td>\n",
       "      <td>4.23</td>\n",
       "      <td>9.7</td>\n",
       "      <td>120</td>\n",
       "      <td>27.9</td>\n",
       "      <td>33.1</td>\n",
       "      <td>84.1</td>\n",
       "      <td>47</td>\n",
       "      <td>0</td>\n",
       "    </tr>\n",
       "    <tr>\n",
       "      <th>2</th>\n",
       "      <td>42.4</td>\n",
       "      <td>14.1</td>\n",
       "      <td>5.71</td>\n",
       "      <td>4.3</td>\n",
       "      <td>239</td>\n",
       "      <td>25.8</td>\n",
       "      <td>33.6</td>\n",
       "      <td>76.7</td>\n",
       "      <td>3</td>\n",
       "      <td>0</td>\n",
       "    </tr>\n",
       "    <tr>\n",
       "      <th>3</th>\n",
       "      <td>40.3</td>\n",
       "      <td>13.4</td>\n",
       "      <td>5.19</td>\n",
       "      <td>4.7</td>\n",
       "      <td>208</td>\n",
       "      <td>27.1</td>\n",
       "      <td>33.7</td>\n",
       "      <td>80.5</td>\n",
       "      <td>25</td>\n",
       "      <td>0</td>\n",
       "    </tr>\n",
       "    <tr>\n",
       "      <th>4</th>\n",
       "      <td>33.3</td>\n",
       "      <td>11.4</td>\n",
       "      <td>4.28</td>\n",
       "      <td>7.5</td>\n",
       "      <td>206</td>\n",
       "      <td>28.3</td>\n",
       "      <td>34.7</td>\n",
       "      <td>81.3</td>\n",
       "      <td>25</td>\n",
       "      <td>0</td>\n",
       "    </tr>\n",
       "    <tr>\n",
       "      <th>...</th>\n",
       "      <td>...</td>\n",
       "      <td>...</td>\n",
       "      <td>...</td>\n",
       "      <td>...</td>\n",
       "      <td>...</td>\n",
       "      <td>...</td>\n",
       "      <td>...</td>\n",
       "      <td>...</td>\n",
       "      <td>...</td>\n",
       "      <td>...</td>\n",
       "    </tr>\n",
       "    <tr>\n",
       "      <th>1319</th>\n",
       "      <td>40.5</td>\n",
       "      <td>12.7</td>\n",
       "      <td>4.89</td>\n",
       "      <td>9.5</td>\n",
       "      <td>436</td>\n",
       "      <td>27.4</td>\n",
       "      <td>31.8</td>\n",
       "      <td>86.1</td>\n",
       "      <td>45</td>\n",
       "      <td>0</td>\n",
       "    </tr>\n",
       "    <tr>\n",
       "      <th>1320</th>\n",
       "      <td>38.2</td>\n",
       "      <td>13.1</td>\n",
       "      <td>4.71</td>\n",
       "      <td>13.8</td>\n",
       "      <td>180</td>\n",
       "      <td>29.3</td>\n",
       "      <td>34.7</td>\n",
       "      <td>84.4</td>\n",
       "      <td>41</td>\n",
       "      <td>0</td>\n",
       "    </tr>\n",
       "    <tr>\n",
       "      <th>1321</th>\n",
       "      <td>35.2</td>\n",
       "      <td>11.9</td>\n",
       "      <td>4.74</td>\n",
       "      <td>7.4</td>\n",
       "      <td>303</td>\n",
       "      <td>26.5</td>\n",
       "      <td>34.3</td>\n",
       "      <td>77.3</td>\n",
       "      <td>39</td>\n",
       "      <td>0</td>\n",
       "    </tr>\n",
       "    <tr>\n",
       "      <th>1322</th>\n",
       "      <td>36.9</td>\n",
       "      <td>12.0</td>\n",
       "      <td>4.42</td>\n",
       "      <td>11.4</td>\n",
       "      <td>306</td>\n",
       "      <td>28.7</td>\n",
       "      <td>33.0</td>\n",
       "      <td>87.2</td>\n",
       "      <td>70</td>\n",
       "      <td>0</td>\n",
       "    </tr>\n",
       "    <tr>\n",
       "      <th>1323</th>\n",
       "      <td>35.1</td>\n",
       "      <td>11.4</td>\n",
       "      <td>4.07</td>\n",
       "      <td>11.9</td>\n",
       "      <td>267</td>\n",
       "      <td>29.8</td>\n",
       "      <td>33.0</td>\n",
       "      <td>90.4</td>\n",
       "      <td>60</td>\n",
       "      <td>0</td>\n",
       "    </tr>\n",
       "  </tbody>\n",
       "</table>\n",
       "<p>1324 rows × 10 columns</p>\n",
       "</div>"
      ],
      "text/plain": [
       "      HAEMATOCRIT  HAEMOGLOBINS  ERYTHROCYTE  LEUCOCYTE  THROMBOCYTE   MCH  \\\n",
       "0            33.0          11.1         4.15       11.1          329  28.4   \n",
       "1            34.0          11.1         4.23        9.7          120  27.9   \n",
       "2            42.4          14.1         5.71        4.3          239  25.8   \n",
       "3            40.3          13.4         5.19        4.7          208  27.1   \n",
       "4            33.3          11.4         4.28        7.5          206  28.3   \n",
       "...           ...           ...          ...        ...          ...   ...   \n",
       "1319         40.5          12.7         4.89        9.5          436  27.4   \n",
       "1320         38.2          13.1         4.71       13.8          180  29.3   \n",
       "1321         35.2          11.9         4.74        7.4          303  26.5   \n",
       "1322         36.9          12.0         4.42       11.4          306  28.7   \n",
       "1323         35.1          11.4         4.07       11.9          267  29.8   \n",
       "\n",
       "      MCHC   MCV  AGE  SEX  \n",
       "0     34.1  83.2   89    0  \n",
       "1     33.1  84.1   47    0  \n",
       "2     33.6  76.7    3    0  \n",
       "3     33.7  80.5   25    0  \n",
       "4     34.7  81.3   25    0  \n",
       "...    ...   ...  ...  ...  \n",
       "1319  31.8  86.1   45    0  \n",
       "1320  34.7  84.4   41    0  \n",
       "1321  34.3  77.3   39    0  \n",
       "1322  33.0  87.2   70    0  \n",
       "1323  33.0  90.4   60    0  \n",
       "\n",
       "[1324 rows x 10 columns]"
      ]
     },
     "execution_count": 128,
     "metadata": {},
     "output_type": "execute_result"
    }
   ],
   "source": [
    "patient_treatment\n",
    "testing"
   ]
  },
  {
   "cell_type": "code",
   "execution_count": 129,
   "metadata": {},
   "outputs": [
    {
     "data": {
      "text/html": [
       "<div>\n",
       "<style scoped>\n",
       "    .dataframe tbody tr th:only-of-type {\n",
       "        vertical-align: middle;\n",
       "    }\n",
       "\n",
       "    .dataframe tbody tr th {\n",
       "        vertical-align: top;\n",
       "    }\n",
       "\n",
       "    .dataframe thead th {\n",
       "        text-align: right;\n",
       "    }\n",
       "</style>\n",
       "<table border=\"1\" class=\"dataframe\">\n",
       "  <thead>\n",
       "    <tr style=\"text-align: right;\">\n",
       "      <th></th>\n",
       "      <th>HAEMATOCRIT</th>\n",
       "      <th>HAEMOGLOBINS</th>\n",
       "      <th>ERYTHROCYTE</th>\n",
       "      <th>LEUCOCYTE</th>\n",
       "      <th>THROMBOCYTE</th>\n",
       "      <th>MCH</th>\n",
       "      <th>MCHC</th>\n",
       "      <th>MCV</th>\n",
       "      <th>AGE</th>\n",
       "      <th>SEX</th>\n",
       "      <th>SOURCE</th>\n",
       "    </tr>\n",
       "  </thead>\n",
       "  <tbody>\n",
       "    <tr>\n",
       "      <th>count</th>\n",
       "      <td>3088.000000</td>\n",
       "      <td>3088.000000</td>\n",
       "      <td>3088.000000</td>\n",
       "      <td>3088.000000</td>\n",
       "      <td>3088.000000</td>\n",
       "      <td>3088.000000</td>\n",
       "      <td>3088.000000</td>\n",
       "      <td>3088.000000</td>\n",
       "      <td>3088.000000</td>\n",
       "      <td>3088.0</td>\n",
       "      <td>3088.000000</td>\n",
       "    </tr>\n",
       "    <tr>\n",
       "      <th>mean</th>\n",
       "      <td>38.381865</td>\n",
       "      <td>12.638472</td>\n",
       "      <td>4.752160</td>\n",
       "      <td>8.788504</td>\n",
       "      <td>260.652850</td>\n",
       "      <td>28.218264</td>\n",
       "      <td>33.352364</td>\n",
       "      <td>84.540026</td>\n",
       "      <td>46.617876</td>\n",
       "      <td>0.0</td>\n",
       "      <td>0.409974</td>\n",
       "    </tr>\n",
       "    <tr>\n",
       "      <th>std</th>\n",
       "      <td>6.070420</td>\n",
       "      <td>2.104983</td>\n",
       "      <td>0.792281</td>\n",
       "      <td>5.055580</td>\n",
       "      <td>115.504157</td>\n",
       "      <td>2.658656</td>\n",
       "      <td>1.227691</td>\n",
       "      <td>6.814936</td>\n",
       "      <td>21.684646</td>\n",
       "      <td>0.0</td>\n",
       "      <td>0.491908</td>\n",
       "    </tr>\n",
       "    <tr>\n",
       "      <th>min</th>\n",
       "      <td>13.900000</td>\n",
       "      <td>4.300000</td>\n",
       "      <td>1.690000</td>\n",
       "      <td>1.200000</td>\n",
       "      <td>13.000000</td>\n",
       "      <td>14.900000</td>\n",
       "      <td>26.400000</td>\n",
       "      <td>54.000000</td>\n",
       "      <td>1.000000</td>\n",
       "      <td>0.0</td>\n",
       "      <td>0.000000</td>\n",
       "    </tr>\n",
       "    <tr>\n",
       "      <th>25%</th>\n",
       "      <td>34.500000</td>\n",
       "      <td>11.275000</td>\n",
       "      <td>4.240000</td>\n",
       "      <td>5.700000</td>\n",
       "      <td>191.000000</td>\n",
       "      <td>27.200000</td>\n",
       "      <td>32.700000</td>\n",
       "      <td>81.500000</td>\n",
       "      <td>29.000000</td>\n",
       "      <td>0.0</td>\n",
       "      <td>0.000000</td>\n",
       "    </tr>\n",
       "    <tr>\n",
       "      <th>50%</th>\n",
       "      <td>38.800000</td>\n",
       "      <td>12.800000</td>\n",
       "      <td>4.790000</td>\n",
       "      <td>7.600000</td>\n",
       "      <td>259.000000</td>\n",
       "      <td>28.700000</td>\n",
       "      <td>33.400000</td>\n",
       "      <td>85.400000</td>\n",
       "      <td>47.000000</td>\n",
       "      <td>0.0</td>\n",
       "      <td>0.000000</td>\n",
       "    </tr>\n",
       "    <tr>\n",
       "      <th>75%</th>\n",
       "      <td>42.700000</td>\n",
       "      <td>14.200000</td>\n",
       "      <td>5.260000</td>\n",
       "      <td>10.400000</td>\n",
       "      <td>325.000000</td>\n",
       "      <td>29.800000</td>\n",
       "      <td>34.100000</td>\n",
       "      <td>88.700000</td>\n",
       "      <td>64.000000</td>\n",
       "      <td>0.0</td>\n",
       "      <td>1.000000</td>\n",
       "    </tr>\n",
       "    <tr>\n",
       "      <th>max</th>\n",
       "      <td>69.200000</td>\n",
       "      <td>18.100000</td>\n",
       "      <td>8.070000</td>\n",
       "      <td>76.700000</td>\n",
       "      <td>1188.000000</td>\n",
       "      <td>36.800000</td>\n",
       "      <td>39.000000</td>\n",
       "      <td>105.300000</td>\n",
       "      <td>99.000000</td>\n",
       "      <td>0.0</td>\n",
       "      <td>1.000000</td>\n",
       "    </tr>\n",
       "  </tbody>\n",
       "</table>\n",
       "</div>"
      ],
      "text/plain": [
       "       HAEMATOCRIT  HAEMOGLOBINS  ERYTHROCYTE    LEUCOCYTE  THROMBOCYTE  \\\n",
       "count  3088.000000   3088.000000  3088.000000  3088.000000  3088.000000   \n",
       "mean     38.381865     12.638472     4.752160     8.788504   260.652850   \n",
       "std       6.070420      2.104983     0.792281     5.055580   115.504157   \n",
       "min      13.900000      4.300000     1.690000     1.200000    13.000000   \n",
       "25%      34.500000     11.275000     4.240000     5.700000   191.000000   \n",
       "50%      38.800000     12.800000     4.790000     7.600000   259.000000   \n",
       "75%      42.700000     14.200000     5.260000    10.400000   325.000000   \n",
       "max      69.200000     18.100000     8.070000    76.700000  1188.000000   \n",
       "\n",
       "               MCH         MCHC          MCV          AGE     SEX       SOURCE  \n",
       "count  3088.000000  3088.000000  3088.000000  3088.000000  3088.0  3088.000000  \n",
       "mean     28.218264    33.352364    84.540026    46.617876     0.0     0.409974  \n",
       "std       2.658656     1.227691     6.814936    21.684646     0.0     0.491908  \n",
       "min      14.900000    26.400000    54.000000     1.000000     0.0     0.000000  \n",
       "25%      27.200000    32.700000    81.500000    29.000000     0.0     0.000000  \n",
       "50%      28.700000    33.400000    85.400000    47.000000     0.0     0.000000  \n",
       "75%      29.800000    34.100000    88.700000    64.000000     0.0     1.000000  \n",
       "max      36.800000    39.000000   105.300000    99.000000     0.0     1.000000  "
      ]
     },
     "execution_count": 129,
     "metadata": {},
     "output_type": "execute_result"
    }
   ],
   "source": [
    "##Descriptive Statistics of all variables for train dataset\n",
    "\n",
    "patient_treatment.describe()"
   ]
  },
  {
   "cell_type": "code",
   "execution_count": 130,
   "metadata": {},
   "outputs": [
    {
     "data": {
      "text/html": [
       "<div>\n",
       "<style scoped>\n",
       "    .dataframe tbody tr th:only-of-type {\n",
       "        vertical-align: middle;\n",
       "    }\n",
       "\n",
       "    .dataframe tbody tr th {\n",
       "        vertical-align: top;\n",
       "    }\n",
       "\n",
       "    .dataframe thead th {\n",
       "        text-align: right;\n",
       "    }\n",
       "</style>\n",
       "<table border=\"1\" class=\"dataframe\">\n",
       "  <thead>\n",
       "    <tr style=\"text-align: right;\">\n",
       "      <th></th>\n",
       "      <th>HAEMATOCRIT</th>\n",
       "      <th>HAEMOGLOBINS</th>\n",
       "      <th>ERYTHROCYTE</th>\n",
       "      <th>LEUCOCYTE</th>\n",
       "      <th>THROMBOCYTE</th>\n",
       "      <th>MCH</th>\n",
       "      <th>MCHC</th>\n",
       "      <th>MCV</th>\n",
       "      <th>AGE</th>\n",
       "      <th>SEX</th>\n",
       "    </tr>\n",
       "  </thead>\n",
       "  <tbody>\n",
       "    <tr>\n",
       "      <th>count</th>\n",
       "      <td>1324.000000</td>\n",
       "      <td>1324.000000</td>\n",
       "      <td>1324.000000</td>\n",
       "      <td>1324.000000</td>\n",
       "      <td>1324.000000</td>\n",
       "      <td>1324.000000</td>\n",
       "      <td>1324.000000</td>\n",
       "      <td>1324.000000</td>\n",
       "      <td>1324.000000</td>\n",
       "      <td>1324.0</td>\n",
       "    </tr>\n",
       "    <tr>\n",
       "      <th>mean</th>\n",
       "      <td>38.434592</td>\n",
       "      <td>12.649320</td>\n",
       "      <td>4.749162</td>\n",
       "      <td>8.888822</td>\n",
       "      <td>266.889728</td>\n",
       "      <td>28.273036</td>\n",
       "      <td>33.321299</td>\n",
       "      <td>84.783006</td>\n",
       "      <td>46.646526</td>\n",
       "      <td>0.0</td>\n",
       "    </tr>\n",
       "    <tr>\n",
       "      <th>std</th>\n",
       "      <td>5.747626</td>\n",
       "      <td>2.020961</td>\n",
       "      <td>0.764941</td>\n",
       "      <td>5.034963</td>\n",
       "      <td>110.236480</td>\n",
       "      <td>2.705596</td>\n",
       "      <td>1.231122</td>\n",
       "      <td>6.960646</td>\n",
       "      <td>21.847658</td>\n",
       "      <td>0.0</td>\n",
       "    </tr>\n",
       "    <tr>\n",
       "      <th>min</th>\n",
       "      <td>14.800000</td>\n",
       "      <td>3.700000</td>\n",
       "      <td>2.190000</td>\n",
       "      <td>1.200000</td>\n",
       "      <td>15.000000</td>\n",
       "      <td>16.500000</td>\n",
       "      <td>26.000000</td>\n",
       "      <td>54.100000</td>\n",
       "      <td>1.000000</td>\n",
       "      <td>0.0</td>\n",
       "    </tr>\n",
       "    <tr>\n",
       "      <th>25%</th>\n",
       "      <td>34.800000</td>\n",
       "      <td>11.400000</td>\n",
       "      <td>4.290000</td>\n",
       "      <td>5.900000</td>\n",
       "      <td>200.000000</td>\n",
       "      <td>27.100000</td>\n",
       "      <td>32.600000</td>\n",
       "      <td>81.600000</td>\n",
       "      <td>29.000000</td>\n",
       "      <td>0.0</td>\n",
       "    </tr>\n",
       "    <tr>\n",
       "      <th>50%</th>\n",
       "      <td>38.850000</td>\n",
       "      <td>12.800000</td>\n",
       "      <td>4.770000</td>\n",
       "      <td>7.700000</td>\n",
       "      <td>267.000000</td>\n",
       "      <td>28.700000</td>\n",
       "      <td>33.400000</td>\n",
       "      <td>85.400000</td>\n",
       "      <td>48.000000</td>\n",
       "      <td>0.0</td>\n",
       "    </tr>\n",
       "    <tr>\n",
       "      <th>75%</th>\n",
       "      <td>42.700000</td>\n",
       "      <td>14.025000</td>\n",
       "      <td>5.270000</td>\n",
       "      <td>10.600000</td>\n",
       "      <td>327.000000</td>\n",
       "      <td>29.900000</td>\n",
       "      <td>34.100000</td>\n",
       "      <td>88.800000</td>\n",
       "      <td>64.000000</td>\n",
       "      <td>0.0</td>\n",
       "    </tr>\n",
       "    <tr>\n",
       "      <th>max</th>\n",
       "      <td>58.300000</td>\n",
       "      <td>18.800000</td>\n",
       "      <td>7.170000</td>\n",
       "      <td>60.900000</td>\n",
       "      <td>979.000000</td>\n",
       "      <td>40.800000</td>\n",
       "      <td>37.600000</td>\n",
       "      <td>115.600000</td>\n",
       "      <td>98.000000</td>\n",
       "      <td>0.0</td>\n",
       "    </tr>\n",
       "  </tbody>\n",
       "</table>\n",
       "</div>"
      ],
      "text/plain": [
       "       HAEMATOCRIT  HAEMOGLOBINS  ERYTHROCYTE    LEUCOCYTE  THROMBOCYTE  \\\n",
       "count  1324.000000   1324.000000  1324.000000  1324.000000  1324.000000   \n",
       "mean     38.434592     12.649320     4.749162     8.888822   266.889728   \n",
       "std       5.747626      2.020961     0.764941     5.034963   110.236480   \n",
       "min      14.800000      3.700000     2.190000     1.200000    15.000000   \n",
       "25%      34.800000     11.400000     4.290000     5.900000   200.000000   \n",
       "50%      38.850000     12.800000     4.770000     7.700000   267.000000   \n",
       "75%      42.700000     14.025000     5.270000    10.600000   327.000000   \n",
       "max      58.300000     18.800000     7.170000    60.900000   979.000000   \n",
       "\n",
       "               MCH         MCHC          MCV          AGE     SEX  \n",
       "count  1324.000000  1324.000000  1324.000000  1324.000000  1324.0  \n",
       "mean     28.273036    33.321299    84.783006    46.646526     0.0  \n",
       "std       2.705596     1.231122     6.960646    21.847658     0.0  \n",
       "min      16.500000    26.000000    54.100000     1.000000     0.0  \n",
       "25%      27.100000    32.600000    81.600000    29.000000     0.0  \n",
       "50%      28.700000    33.400000    85.400000    48.000000     0.0  \n",
       "75%      29.900000    34.100000    88.800000    64.000000     0.0  \n",
       "max      40.800000    37.600000   115.600000    98.000000     0.0  "
      ]
     },
     "execution_count": 130,
     "metadata": {},
     "output_type": "execute_result"
    }
   ],
   "source": [
    "##Descriptive Statistics of all variables for test dataset\n",
    "testing.describe()"
   ]
  },
  {
   "cell_type": "code",
   "execution_count": 21,
   "metadata": {},
   "outputs": [
    {
     "data": {
      "text/plain": [
       "HAEMATOCRIT     0\n",
       "HAEMOGLOBINS    0\n",
       "ERYTHROCYTE     0\n",
       "LEUCOCYTE       0\n",
       "THROMBOCYTE     0\n",
       "MCH             0\n",
       "MCHC            0\n",
       "MCV             0\n",
       "AGE             0\n",
       "SEX             0\n",
       "SOURCE          0\n",
       "dtype: int64"
      ]
     },
     "execution_count": 21,
     "metadata": {},
     "output_type": "execute_result"
    }
   ],
   "source": [
    "##This is used to check missing values from the train data\n",
    "\n",
    "patient_treatment.isnull().sum()"
   ]
  },
  {
   "cell_type": "markdown",
   "metadata": {},
   "source": [
    "from the result of the analysis above, it was revealed that there are no missing value from any of the variables which is a god thing for our analysis."
   ]
  },
  {
   "cell_type": "code",
   "execution_count": 23,
   "metadata": {},
   "outputs": [
    {
     "data": {
      "text/plain": [
       "0    1822\n",
       "1    1266\n",
       "Name: SOURCE, dtype: int64"
      ]
     },
     "execution_count": 23,
     "metadata": {},
     "output_type": "execute_result"
    }
   ],
   "source": [
    "patient_treatment.SOURCE.value_counts()"
   ]
  },
  {
   "cell_type": "code",
   "execution_count": 35,
   "metadata": {},
   "outputs": [
    {
     "data": {
      "text/html": [
       "<div>\n",
       "<style scoped>\n",
       "    .dataframe tbody tr th:only-of-type {\n",
       "        vertical-align: middle;\n",
       "    }\n",
       "\n",
       "    .dataframe tbody tr th {\n",
       "        vertical-align: top;\n",
       "    }\n",
       "\n",
       "    .dataframe thead th {\n",
       "        text-align: right;\n",
       "    }\n",
       "</style>\n",
       "<table border=\"1\" class=\"dataframe\">\n",
       "  <thead>\n",
       "    <tr style=\"text-align: right;\">\n",
       "      <th></th>\n",
       "      <th>HAEMATOCRIT</th>\n",
       "      <th>HAEMOGLOBINS</th>\n",
       "      <th>ERYTHROCYTE</th>\n",
       "      <th>LEUCOCYTE</th>\n",
       "      <th>THROMBOCYTE</th>\n",
       "      <th>MCH</th>\n",
       "      <th>MCHC</th>\n",
       "      <th>MCV</th>\n",
       "      <th>AGE</th>\n",
       "      <th>SEX</th>\n",
       "    </tr>\n",
       "    <tr>\n",
       "      <th>SOURCE</th>\n",
       "      <th></th>\n",
       "      <th></th>\n",
       "      <th></th>\n",
       "      <th></th>\n",
       "      <th></th>\n",
       "      <th></th>\n",
       "      <th></th>\n",
       "      <th></th>\n",
       "      <th></th>\n",
       "      <th></th>\n",
       "    </tr>\n",
       "  </thead>\n",
       "  <tbody>\n",
       "    <tr>\n",
       "      <th>0</th>\n",
       "      <td>39.794182</td>\n",
       "      <td>13.099890</td>\n",
       "      <td>4.909341</td>\n",
       "      <td>8.190505</td>\n",
       "      <td>284.592206</td>\n",
       "      <td>28.254281</td>\n",
       "      <td>33.331339</td>\n",
       "      <td>84.698189</td>\n",
       "      <td>44.768935</td>\n",
       "      <td>0.504391</td>\n",
       "    </tr>\n",
       "    <tr>\n",
       "      <th>1</th>\n",
       "      <td>36.349289</td>\n",
       "      <td>11.974408</td>\n",
       "      <td>4.525948</td>\n",
       "      <td>9.649131</td>\n",
       "      <td>226.199842</td>\n",
       "      <td>28.166430</td>\n",
       "      <td>33.382622</td>\n",
       "      <td>84.312401</td>\n",
       "      <td>49.278831</td>\n",
       "      <td>0.551343</td>\n",
       "    </tr>\n",
       "  </tbody>\n",
       "</table>\n",
       "</div>"
      ],
      "text/plain": [
       "        HAEMATOCRIT  HAEMOGLOBINS  ERYTHROCYTE  LEUCOCYTE  THROMBOCYTE  \\\n",
       "SOURCE                                                                   \n",
       "0         39.794182     13.099890     4.909341   8.190505   284.592206   \n",
       "1         36.349289     11.974408     4.525948   9.649131   226.199842   \n",
       "\n",
       "              MCH       MCHC        MCV        AGE       SEX  \n",
       "SOURCE                                                        \n",
       "0       28.254281  33.331339  84.698189  44.768935  0.504391  \n",
       "1       28.166430  33.382622  84.312401  49.278831  0.551343  "
      ]
     },
     "execution_count": 35,
     "metadata": {},
     "output_type": "execute_result"
    }
   ],
   "source": [
    "patient_treatment.groupby('SOURCE').mean()"
   ]
  },
  {
   "cell_type": "code",
   "execution_count": 36,
   "metadata": {},
   "outputs": [
    {
     "data": {
      "text/html": [
       "<div>\n",
       "<style scoped>\n",
       "    .dataframe tbody tr th:only-of-type {\n",
       "        vertical-align: middle;\n",
       "    }\n",
       "\n",
       "    .dataframe tbody tr th {\n",
       "        vertical-align: top;\n",
       "    }\n",
       "\n",
       "    .dataframe thead th {\n",
       "        text-align: right;\n",
       "    }\n",
       "</style>\n",
       "<table border=\"1\" class=\"dataframe\">\n",
       "  <thead>\n",
       "    <tr style=\"text-align: right;\">\n",
       "      <th></th>\n",
       "      <th>HAEMATOCRIT</th>\n",
       "      <th>HAEMOGLOBINS</th>\n",
       "      <th>ERYTHROCYTE</th>\n",
       "      <th>LEUCOCYTE</th>\n",
       "      <th>THROMBOCYTE</th>\n",
       "      <th>MCH</th>\n",
       "      <th>MCHC</th>\n",
       "      <th>MCV</th>\n",
       "      <th>AGE</th>\n",
       "      <th>SEX</th>\n",
       "    </tr>\n",
       "    <tr>\n",
       "      <th>SOURCE</th>\n",
       "      <th></th>\n",
       "      <th></th>\n",
       "      <th></th>\n",
       "      <th></th>\n",
       "      <th></th>\n",
       "      <th></th>\n",
       "      <th></th>\n",
       "      <th></th>\n",
       "      <th></th>\n",
       "      <th></th>\n",
       "    </tr>\n",
       "  </thead>\n",
       "  <tbody>\n",
       "    <tr>\n",
       "      <th>0</th>\n",
       "      <td>72505.0</td>\n",
       "      <td>23868.0</td>\n",
       "      <td>8944.82</td>\n",
       "      <td>14923.1</td>\n",
       "      <td>518527</td>\n",
       "      <td>51479.3</td>\n",
       "      <td>60729.7</td>\n",
       "      <td>154320.1</td>\n",
       "      <td>81569</td>\n",
       "      <td>919</td>\n",
       "    </tr>\n",
       "    <tr>\n",
       "      <th>1</th>\n",
       "      <td>46018.2</td>\n",
       "      <td>15159.6</td>\n",
       "      <td>5729.85</td>\n",
       "      <td>12215.8</td>\n",
       "      <td>286369</td>\n",
       "      <td>35658.7</td>\n",
       "      <td>42262.4</td>\n",
       "      <td>106739.5</td>\n",
       "      <td>62387</td>\n",
       "      <td>698</td>\n",
       "    </tr>\n",
       "  </tbody>\n",
       "</table>\n",
       "</div>"
      ],
      "text/plain": [
       "        HAEMATOCRIT  HAEMOGLOBINS  ERYTHROCYTE  LEUCOCYTE  THROMBOCYTE  \\\n",
       "SOURCE                                                                   \n",
       "0           72505.0       23868.0      8944.82    14923.1       518527   \n",
       "1           46018.2       15159.6      5729.85    12215.8       286369   \n",
       "\n",
       "            MCH     MCHC       MCV    AGE  SEX  \n",
       "SOURCE                                          \n",
       "0       51479.3  60729.7  154320.1  81569  919  \n",
       "1       35658.7  42262.4  106739.5  62387  698  "
      ]
     },
     "execution_count": 36,
     "metadata": {},
     "output_type": "execute_result"
    }
   ],
   "source": [
    "patient_treatment.groupby('SOURCE').sum()"
   ]
  },
  {
   "cell_type": "code",
   "execution_count": 37,
   "metadata": {},
   "outputs": [
    {
     "data": {
      "text/html": [
       "<div>\n",
       "<style scoped>\n",
       "    .dataframe tbody tr th:only-of-type {\n",
       "        vertical-align: middle;\n",
       "    }\n",
       "\n",
       "    .dataframe tbody tr th {\n",
       "        vertical-align: top;\n",
       "    }\n",
       "\n",
       "    .dataframe thead th {\n",
       "        text-align: right;\n",
       "    }\n",
       "</style>\n",
       "<table border=\"1\" class=\"dataframe\">\n",
       "  <thead>\n",
       "    <tr style=\"text-align: right;\">\n",
       "      <th></th>\n",
       "      <th>HAEMATOCRIT</th>\n",
       "      <th>HAEMOGLOBINS</th>\n",
       "      <th>ERYTHROCYTE</th>\n",
       "      <th>LEUCOCYTE</th>\n",
       "      <th>THROMBOCYTE</th>\n",
       "      <th>MCH</th>\n",
       "      <th>MCHC</th>\n",
       "      <th>MCV</th>\n",
       "      <th>AGE</th>\n",
       "      <th>SEX</th>\n",
       "      <th>SOURCE</th>\n",
       "    </tr>\n",
       "  </thead>\n",
       "  <tbody>\n",
       "    <tr>\n",
       "      <th>HAEMATOCRIT</th>\n",
       "      <td>1.000000</td>\n",
       "      <td>0.972772</td>\n",
       "      <td>0.866608</td>\n",
       "      <td>-0.208369</td>\n",
       "      <td>0.002191</td>\n",
       "      <td>0.089529</td>\n",
       "      <td>0.101732</td>\n",
       "      <td>0.064190</td>\n",
       "      <td>-0.250285</td>\n",
       "      <td>0.281060</td>\n",
       "      <td>-0.279152</td>\n",
       "    </tr>\n",
       "    <tr>\n",
       "      <th>HAEMOGLOBINS</th>\n",
       "      <td>0.972772</td>\n",
       "      <td>1.000000</td>\n",
       "      <td>0.821802</td>\n",
       "      <td>-0.199832</td>\n",
       "      <td>-0.041193</td>\n",
       "      <td>0.207500</td>\n",
       "      <td>0.303983</td>\n",
       "      <td>0.114303</td>\n",
       "      <td>-0.235737</td>\n",
       "      <td>0.316085</td>\n",
       "      <td>-0.263011</td>\n",
       "    </tr>\n",
       "    <tr>\n",
       "      <th>ERYTHROCYTE</th>\n",
       "      <td>0.866608</td>\n",
       "      <td>0.821802</td>\n",
       "      <td>1.000000</td>\n",
       "      <td>-0.178692</td>\n",
       "      <td>0.031231</td>\n",
       "      <td>-0.373516</td>\n",
       "      <td>-0.054127</td>\n",
       "      <td>-0.422396</td>\n",
       "      <td>-0.405648</td>\n",
       "      <td>0.249041</td>\n",
       "      <td>-0.238040</td>\n",
       "    </tr>\n",
       "    <tr>\n",
       "      <th>LEUCOCYTE</th>\n",
       "      <td>-0.208369</td>\n",
       "      <td>-0.199832</td>\n",
       "      <td>-0.178692</td>\n",
       "      <td>1.000000</td>\n",
       "      <td>0.281519</td>\n",
       "      <td>-0.016121</td>\n",
       "      <td>0.008830</td>\n",
       "      <td>-0.019837</td>\n",
       "      <td>0.195593</td>\n",
       "      <td>0.059672</td>\n",
       "      <td>0.141924</td>\n",
       "    </tr>\n",
       "    <tr>\n",
       "      <th>THROMBOCYTE</th>\n",
       "      <td>0.002191</td>\n",
       "      <td>-0.041193</td>\n",
       "      <td>0.031231</td>\n",
       "      <td>0.281519</td>\n",
       "      <td>1.000000</td>\n",
       "      <td>-0.142514</td>\n",
       "      <td>-0.208384</td>\n",
       "      <td>-0.076579</td>\n",
       "      <td>0.031990</td>\n",
       "      <td>-0.068882</td>\n",
       "      <td>-0.248681</td>\n",
       "    </tr>\n",
       "    <tr>\n",
       "      <th>MCH</th>\n",
       "      <td>0.089529</td>\n",
       "      <td>0.207500</td>\n",
       "      <td>-0.373516</td>\n",
       "      <td>-0.016121</td>\n",
       "      <td>-0.142514</td>\n",
       "      <td>1.000000</td>\n",
       "      <td>0.592368</td>\n",
       "      <td>0.931377</td>\n",
       "      <td>0.346764</td>\n",
       "      <td>0.087998</td>\n",
       "      <td>-0.016254</td>\n",
       "    </tr>\n",
       "    <tr>\n",
       "      <th>MCHC</th>\n",
       "      <td>0.101732</td>\n",
       "      <td>0.303983</td>\n",
       "      <td>-0.054127</td>\n",
       "      <td>0.008830</td>\n",
       "      <td>-0.208384</td>\n",
       "      <td>0.592368</td>\n",
       "      <td>1.000000</td>\n",
       "      <td>0.261626</td>\n",
       "      <td>0.045412</td>\n",
       "      <td>0.212309</td>\n",
       "      <td>0.020548</td>\n",
       "    </tr>\n",
       "    <tr>\n",
       "      <th>MCV</th>\n",
       "      <td>0.064190</td>\n",
       "      <td>0.114303</td>\n",
       "      <td>-0.422396</td>\n",
       "      <td>-0.019837</td>\n",
       "      <td>-0.076579</td>\n",
       "      <td>0.931377</td>\n",
       "      <td>0.261626</td>\n",
       "      <td>1.000000</td>\n",
       "      <td>0.390368</td>\n",
       "      <td>0.008267</td>\n",
       "      <td>-0.027846</td>\n",
       "    </tr>\n",
       "    <tr>\n",
       "      <th>AGE</th>\n",
       "      <td>-0.250285</td>\n",
       "      <td>-0.235737</td>\n",
       "      <td>-0.405648</td>\n",
       "      <td>0.195593</td>\n",
       "      <td>0.031990</td>\n",
       "      <td>0.346764</td>\n",
       "      <td>0.045412</td>\n",
       "      <td>0.390368</td>\n",
       "      <td>1.000000</td>\n",
       "      <td>0.041536</td>\n",
       "      <td>0.102305</td>\n",
       "    </tr>\n",
       "    <tr>\n",
       "      <th>SEX</th>\n",
       "      <td>0.281060</td>\n",
       "      <td>0.316085</td>\n",
       "      <td>0.249041</td>\n",
       "      <td>0.059672</td>\n",
       "      <td>-0.068882</td>\n",
       "      <td>0.087998</td>\n",
       "      <td>0.212309</td>\n",
       "      <td>0.008267</td>\n",
       "      <td>0.041536</td>\n",
       "      <td>1.000000</td>\n",
       "      <td>0.046236</td>\n",
       "    </tr>\n",
       "    <tr>\n",
       "      <th>SOURCE</th>\n",
       "      <td>-0.279152</td>\n",
       "      <td>-0.263011</td>\n",
       "      <td>-0.238040</td>\n",
       "      <td>0.141924</td>\n",
       "      <td>-0.248681</td>\n",
       "      <td>-0.016254</td>\n",
       "      <td>0.020548</td>\n",
       "      <td>-0.027846</td>\n",
       "      <td>0.102305</td>\n",
       "      <td>0.046236</td>\n",
       "      <td>1.000000</td>\n",
       "    </tr>\n",
       "  </tbody>\n",
       "</table>\n",
       "</div>"
      ],
      "text/plain": [
       "              HAEMATOCRIT  HAEMOGLOBINS  ERYTHROCYTE  LEUCOCYTE  THROMBOCYTE  \\\n",
       "HAEMATOCRIT      1.000000      0.972772     0.866608  -0.208369     0.002191   \n",
       "HAEMOGLOBINS     0.972772      1.000000     0.821802  -0.199832    -0.041193   \n",
       "ERYTHROCYTE      0.866608      0.821802     1.000000  -0.178692     0.031231   \n",
       "LEUCOCYTE       -0.208369     -0.199832    -0.178692   1.000000     0.281519   \n",
       "THROMBOCYTE      0.002191     -0.041193     0.031231   0.281519     1.000000   \n",
       "MCH              0.089529      0.207500    -0.373516  -0.016121    -0.142514   \n",
       "MCHC             0.101732      0.303983    -0.054127   0.008830    -0.208384   \n",
       "MCV              0.064190      0.114303    -0.422396  -0.019837    -0.076579   \n",
       "AGE             -0.250285     -0.235737    -0.405648   0.195593     0.031990   \n",
       "SEX              0.281060      0.316085     0.249041   0.059672    -0.068882   \n",
       "SOURCE          -0.279152     -0.263011    -0.238040   0.141924    -0.248681   \n",
       "\n",
       "                   MCH      MCHC       MCV       AGE       SEX    SOURCE  \n",
       "HAEMATOCRIT   0.089529  0.101732  0.064190 -0.250285  0.281060 -0.279152  \n",
       "HAEMOGLOBINS  0.207500  0.303983  0.114303 -0.235737  0.316085 -0.263011  \n",
       "ERYTHROCYTE  -0.373516 -0.054127 -0.422396 -0.405648  0.249041 -0.238040  \n",
       "LEUCOCYTE    -0.016121  0.008830 -0.019837  0.195593  0.059672  0.141924  \n",
       "THROMBOCYTE  -0.142514 -0.208384 -0.076579  0.031990 -0.068882 -0.248681  \n",
       "MCH           1.000000  0.592368  0.931377  0.346764  0.087998 -0.016254  \n",
       "MCHC          0.592368  1.000000  0.261626  0.045412  0.212309  0.020548  \n",
       "MCV           0.931377  0.261626  1.000000  0.390368  0.008267 -0.027846  \n",
       "AGE           0.346764  0.045412  0.390368  1.000000  0.041536  0.102305  \n",
       "SEX           0.087998  0.212309  0.008267  0.041536  1.000000  0.046236  \n",
       "SOURCE       -0.016254  0.020548 -0.027846  0.102305  0.046236  1.000000  "
      ]
     },
     "execution_count": 37,
     "metadata": {},
     "output_type": "execute_result"
    }
   ],
   "source": [
    "##correlation Analysis\n",
    "patient_treatment.corr()"
   ]
  },
  {
   "cell_type": "code",
   "execution_count": 38,
   "metadata": {},
   "outputs": [
    {
     "data": {
      "text/plain": [
       "<matplotlib.axes._subplots.AxesSubplot at 0x21854c78108>"
      ]
     },
     "execution_count": 38,
     "metadata": {},
     "output_type": "execute_result"
    },
    {
     "data": {
      "image/png": "[encoded data removed]",
      "text/plain": [
       "<Figure size 432x288 with 1 Axes>"
      ]
     },
     "metadata": {
      "needs_background": "light"
     },
     "output_type": "display_data"
    }
   ],
   "source": [
    "sns.countplot(x=\"SOURCE\", data=patient_treatment)"
   ]
  },
  {
   "cell_type": "code",
   "execution_count": 39,
   "metadata": {},
   "outputs": [
    {
     "data": {
      "text/plain": [
       "<matplotlib.axes._subplots.AxesSubplot at 0x21854c30fc8>"
      ]
     },
     "execution_count": 39,
     "metadata": {},
     "output_type": "execute_result"
    },
    {
     "data": {
      "image/png": "[encoded data removed]",
      "text/plain": [
       "<Figure size 432x288 with 1 Axes>"
      ]
     },
     "metadata": {
      "needs_background": "light"
     },
     "output_type": "display_data"
    }
   ],
   "source": [
    "sns.countplot(x=\"SEX\", data=patient_treatment)"
   ]
  },
  {
   "cell_type": "code",
   "execution_count": 40,
   "metadata": {},
   "outputs": [
    {
     "data": {
      "text/plain": [
       "<matplotlib.axes._subplots.AxesSubplot at 0x218544ad8c8>"
      ]
     },
     "execution_count": 40,
     "metadata": {},
     "output_type": "execute_result"
    },
    {
     "data": {
      "image/png": "[encoded data removed]",
      "text/plain": [
       "<Figure size 432x288 with 1 Axes>"
      ]
     },
     "metadata": {
      "needs_background": "light"
     },
     "output_type": "display_data"
    }
   ],
   "source": [
    "sns.countplot(x=\"AGE\", data=patient_treatment)"
   ]
  },
  {
   "cell_type": "code",
   "execution_count": 41,
   "metadata": {},
   "outputs": [
    {
     "data": {
      "image/png": "[encoded data removed]",
      "text/plain": [
       "<Figure size 720x576 with 2 Axes>"
      ]
     },
     "metadata": {
      "needs_background": "light"
     },
     "output_type": "display_data"
    }
   ],
   "source": [
    "#lets first look more into the relationship between the features\n",
    "#using the correlation heatmap\n",
    "\n",
    "\n",
    "plt.figure(figsize=(10,8))\n",
    "sns.heatmap(patient_treatment.corr(), cmap='coolwarm',annot=True); "
   ]
  },
  {
   "cell_type": "code",
   "execution_count": 45,
   "metadata": {},
   "outputs": [
    {
     "data": {
      "image/png": "[encoded data removed]",
      "text/plain": [
       "<Figure size 1080x2160 with 10 Axes>"
      ]
     },
     "metadata": {},
     "output_type": "display_data"
    }
   ],
   "source": [
    "fig, axes = plt.subplots(nrows = 5, ncols = 2)    # axes is 2d array (5x2)\n",
    "axes = axes.flatten()         # Convert axes to 1d array of length 10\n",
    "fig.set_size_inches(15, 30)\n",
    "\n",
    "for i, column in enumerate(patient_treatment.loc[:, patient_treatment.columns != 'SOURCE'], 1):\n",
    "    plt.subplot(5,2,i)\n",
    "    sns.set_style(\"whitegrid\")\n",
    "    sns.boxplot(x = patient_treatment['SOURCE'], y = patient_treatment[column])\n",
    "    sns.despine()"
   ]
  },
  {
   "cell_type": "code",
   "execution_count": 132,
   "metadata": {},
   "outputs": [],
   "source": [
    "##Importing Neccesary model for the analysis\n",
    "from sklearn import metrics\n",
    "from sklearn.model_selection import train_test_split\n",
    "\n",
    "## splitting data to train and test \n",
    "x_train,x_test,y_train,y_test=train_test_split(x,y, test_size=0.25, random_state=22)"
   ]
  },
  {
   "cell_type": "code",
   "execution_count": 133,
   "metadata": {},
   "outputs": [],
   "source": [
    "#data preprocessing and split of data to depedent and independent variable#\n",
    "\n",
    "x=patient_treatment.drop([\"SOURCE\"], axis=\"columns\")\n",
    "y=patient_treatment[\"SOURCE\"]"
   ]
  },
  {
   "cell_type": "code",
   "execution_count": 134,
   "metadata": {},
   "outputs": [
    {
     "name": "stderr",
     "output_type": "stream",
     "text": [
      "C:\\Users\\hp\\anaconda3\\lib\\site-packages\\sklearn\\linear_model\\_logistic.py:940: ConvergenceWarning: lbfgs failed to converge (status=1):\n",
      "STOP: TOTAL NO. of ITERATIONS REACHED LIMIT.\n",
      "\n",
      "Increase the number of iterations (max_iter) or scale the data as shown in:\n",
      "    https://scikit-learn.org/stable/modules/preprocessing.html\n",
      "Please also refer to the documentation for alternative solver options:\n",
      "    https://scikit-learn.org/stable/modules/linear_model.html#logistic-regression\n",
      "  extra_warning_msg=_LOGISTIC_SOLVER_CONVERGENCE_MSG)\n"
     ]
    },
    {
     "data": {
      "text/plain": [
       "LogisticRegression(C=1.0, class_weight=None, dual=False, fit_intercept=True,\n",
       "                   intercept_scaling=1, l1_ratio=None, max_iter=100,\n",
       "                   multi_class='auto', n_jobs=None, penalty='l2',\n",
       "                   random_state=None, solver='lbfgs', tol=0.0001, verbose=0,\n",
       "                   warm_start=False)"
      ]
     },
     "execution_count": 134,
     "metadata": {},
     "output_type": "execute_result"
    }
   ],
   "source": [
    "## Importing logistic regression model from sklearn\n",
    "from sklearn.linear_model import LogisticRegression\n",
    "logisticmodel=LogisticRegression()\n",
    "\n",
    "##fitting data\n",
    "logisticmodel.fit(x_train,y_train)"
   ]
  },
  {
   "cell_type": "code",
   "execution_count": 140,
   "metadata": {},
   "outputs": [],
   "source": [
    "##Confusion matrix function definition \n",
    "def ConfusionMatrix(ytest, logistic_prediction, label=[\"non positive\", \"positive\"]):\n",
    "    from sklearn.metrics import confusion_matrix\n",
    "    #Confusion matrix to check performance\n",
    "    CM=confusion_matrix(ytest,logistic_prediction)\n",
    "    plt.figure(figsize=(7,5))\n",
    "    sns.heatmap(CM, annot=True, cbar=False, fmt='d', cmap='YlGn')\n",
    "    plt.xlabel(\"predicted\", fontsize=33)\n",
    "    plt.ylabel (\"True\", fontsize=23)\n",
    "    plt.title('A confusion matrix', fontsize=25);"
   ]
  },
  {
   "cell_type": "code",
   "execution_count": 135,
   "metadata": {},
   "outputs": [],
   "source": [
    "##Predicting the test variable with the fit model\n",
    "logistic_prediction=logisticmodel.predict(x_test)"
   ]
  },
  {
   "cell_type": "code",
   "execution_count": 142,
   "metadata": {},
   "outputs": [
    {
     "data": {
      "text/plain": [
       "array([0, 0, 1, 0, 0, 1, 0, 0, 0, 0, 0, 0, 0, 1, 1, 0, 0, 0, 0, 0, 0, 0,\n",
       "       0, 0, 0, 0, 0, 0, 0, 0, 0, 0, 1, 1, 1, 0, 0, 1, 0, 1, 0, 0, 0, 0,\n",
       "       1, 0, 1, 1, 0, 1, 0, 0, 0, 0, 0, 0, 0, 1, 1, 0, 1, 0, 1, 0, 0, 0,\n",
       "       0, 0, 0, 0, 0, 0, 0, 1, 0, 0, 0, 1, 0, 0, 0, 0, 0, 1, 0, 1, 0, 0,\n",
       "       0, 1, 0, 0, 1, 1, 0, 0, 0, 0, 1, 0, 0, 1, 0, 0, 1, 1, 0, 1, 0, 0,\n",
       "       1, 1, 0, 0, 0, 1, 0, 0, 0, 0, 0, 0, 1, 0, 1, 0, 1, 0, 0, 0, 1, 0,\n",
       "       1, 1, 0, 0, 0, 0, 1, 0, 0, 0, 0, 0, 0, 1, 0, 0, 1, 0, 0, 0, 0, 0,\n",
       "       0, 0, 0, 0, 1, 0, 0, 0, 0, 1, 0, 0, 0, 0, 1, 0, 1, 0, 0, 0, 0, 1,\n",
       "       0, 0, 1, 0, 0, 0, 0, 1, 0, 1, 0, 0, 0, 0, 1, 0, 0, 0, 0, 0, 0, 0,\n",
       "       0, 0, 0, 1, 0, 0, 0, 1, 1, 0, 0, 0, 1, 1, 1, 0, 0, 0, 0, 1, 0, 0,\n",
       "       1, 0, 1, 0, 0, 1, 1, 0, 1, 1, 0, 0, 0, 0, 0, 0, 1, 0, 0, 1, 1, 0,\n",
       "       0, 0, 0, 0, 1, 0, 1, 1, 1, 1, 1, 0, 0, 0, 1, 0, 0, 0, 0, 1, 0, 0,\n",
       "       0, 1, 0, 0, 1, 0, 0, 0, 0, 0, 0, 1, 0, 0, 0, 1, 1, 0, 0, 0, 0, 0,\n",
       "       1, 0, 0, 0, 0, 1, 0, 0, 0, 0, 0, 1, 0, 0, 0, 0, 1, 0, 0, 0, 0, 0,\n",
       "       1, 0, 0, 0, 0, 1, 1, 0, 0, 0, 0, 1, 1, 0, 0, 1, 0, 0, 0, 1, 0, 0,\n",
       "       0, 0, 1, 0, 0, 1, 0, 0, 0, 0, 0, 1, 0, 0, 0, 0, 0, 1, 1, 0, 0, 0,\n",
       "       0, 0, 0, 1, 0, 0, 0, 0, 0, 0, 0, 0, 1, 0, 0, 0, 0, 0, 0, 0, 0, 0,\n",
       "       1, 0, 1, 0, 1, 0, 0, 1, 0, 1, 1, 0, 0, 1, 0, 0, 0, 0, 1, 0, 0, 0,\n",
       "       0, 0, 0, 1, 0, 0, 0, 0, 0, 1, 0, 0, 0, 1, 0, 0, 0, 1, 0, 0, 0, 0,\n",
       "       0, 1, 0, 1, 1, 0, 0, 1, 0, 0, 0, 1, 0, 1, 0, 0, 0, 1, 1, 0, 0, 1,\n",
       "       0, 0, 1, 0, 0, 0, 0, 0, 0, 0, 0, 0, 1, 0, 0, 0, 1, 0, 0, 0, 0, 0,\n",
       "       0, 0, 1, 0, 0, 1, 0, 1, 0, 0, 0, 0, 0, 0, 0, 0, 1, 0, 1, 0, 1, 0,\n",
       "       0, 0, 1, 0, 1, 1, 0, 1, 0, 0, 0, 1, 0, 1, 0, 0, 0, 0, 0, 0, 0, 0,\n",
       "       0, 0, 1, 0, 0, 0, 1, 0, 0, 0, 0, 1, 0, 0, 0, 0, 0, 0, 0, 1, 0, 0,\n",
       "       1, 0, 1, 1, 0, 0, 0, 1, 0, 0, 0, 0, 0, 1, 0, 0, 0, 1, 0, 0, 0, 0,\n",
       "       1, 1, 1, 1, 0, 0, 0, 0, 0, 0, 0, 0, 1, 0, 0, 0, 0, 0, 0, 0, 1, 1,\n",
       "       0, 0, 1, 0, 0, 0, 0, 1, 0, 0, 1, 0, 1, 0, 0, 0, 0, 1, 0, 0, 0, 1,\n",
       "       0, 0, 1, 0, 0, 0, 0, 0, 0, 0, 0, 0, 0, 0, 0, 0, 0, 0, 0, 0, 0, 0,\n",
       "       0, 1, 0, 1, 0, 0, 1, 0, 0, 1, 0, 0, 1, 0, 0, 0, 0, 0, 1, 1, 1, 1,\n",
       "       0, 0, 0, 0, 0, 0, 0, 0, 0, 1, 0, 1, 0, 0, 0, 1, 0, 0, 0, 0, 0, 0,\n",
       "       0, 0, 1, 0, 0, 1, 0, 0, 0, 0, 0, 0, 0, 0, 0, 0, 1, 0, 0, 0, 1, 0,\n",
       "       0, 0, 1, 0, 1, 1, 0, 1, 0, 0, 1, 0, 1, 0, 0, 0, 0, 0, 1, 0, 1, 0,\n",
       "       1, 0, 0, 1, 0, 0, 1, 1, 0, 0, 1, 0, 0, 0, 0, 0, 1, 1, 0, 0, 0, 0,\n",
       "       0, 0, 1, 1, 0, 0, 0, 1, 1, 1, 0, 1, 1, 0, 1, 0, 0, 0, 1, 1, 1, 0,\n",
       "       0, 0, 0, 0, 0, 0, 0, 0, 1, 0, 0, 0, 0, 1, 1, 1, 0, 0, 0, 1, 0, 0,\n",
       "       0, 1], dtype=int64)"
      ]
     },
     "execution_count": 142,
     "metadata": {},
     "output_type": "execute_result"
    }
   ],
   "source": [
    "logistic_prediction"
   ]
  },
  {
   "cell_type": "code",
   "execution_count": 141,
   "metadata": {},
   "outputs": [
    {
     "data": {
      "image/png": "[encoded data removed]",
      "text/plain": [
       "<Figure size 504x360 with 1 Axes>"
      ]
     },
     "metadata": {},
     "output_type": "display_data"
    }
   ],
   "source": [
    "ConfusionMatrix(y_test, logistic_prediction, label=[\"non positive\", \"positive\"])"
   ]
  },
  {
   "cell_type": "code",
   "execution_count": 137,
   "metadata": {},
   "outputs": [
    {
     "data": {
      "text/plain": [
       "(772,)"
      ]
     },
     "execution_count": 137,
     "metadata": {},
     "output_type": "execute_result"
    }
   ],
   "source": [
    "logistic_prediction.shape"
   ]
  },
  {
   "cell_type": "code",
   "execution_count": 139,
   "metadata": {},
   "outputs": [
    {
     "name": "stdout",
     "output_type": "stream",
     "text": [
      "Logistic model Accuracy value is  0.7266839378238342\n",
      "Logistic Forest model F1 value is  0.6011342155009453\n"
     ]
    }
   ],
   "source": [
    "accuracy=metrics.accuracy_score(y_test, logistic_prediction)\n",
    "F1=metrics.f1_score(y_test, logistic_prediction)\n",
    "\n",
    "print(\"Logistic model Accuracy value is \", accuracy)\n",
    "print(\"Logistic Forest model F1 value is \", F1)"
   ]
  },
  {
   "cell_type": "code",
   "execution_count": 146,
   "metadata": {},
   "outputs": [
    {
     "data": {
      "text/html": [
       "<div>\n",
       "<style scoped>\n",
       "    .dataframe tbody tr th:only-of-type {\n",
       "        vertical-align: middle;\n",
       "    }\n",
       "\n",
       "    .dataframe tbody tr th {\n",
       "        vertical-align: top;\n",
       "    }\n",
       "\n",
       "    .dataframe thead th {\n",
       "        text-align: right;\n",
       "    }\n",
       "</style>\n",
       "<table border=\"1\" class=\"dataframe\">\n",
       "  <thead>\n",
       "    <tr style=\"text-align: right;\">\n",
       "      <th></th>\n",
       "      <th>patient_id_</th>\n",
       "      <th>SOURCE</th>\n",
       "    </tr>\n",
       "  </thead>\n",
       "  <tbody>\n",
       "    <tr>\n",
       "      <th>0</th>\n",
       "      <td>patient_id_4373</td>\n",
       "      <td>1</td>\n",
       "    </tr>\n",
       "    <tr>\n",
       "      <th>1</th>\n",
       "      <td>patient_id_2204</td>\n",
       "      <td>1</td>\n",
       "    </tr>\n",
       "    <tr>\n",
       "      <th>2</th>\n",
       "      <td>patient_id_93</td>\n",
       "      <td>1</td>\n",
       "    </tr>\n",
       "    <tr>\n",
       "      <th>3</th>\n",
       "      <td>patient_id_798</td>\n",
       "      <td>1</td>\n",
       "    </tr>\n",
       "    <tr>\n",
       "      <th>4</th>\n",
       "      <td>patient_id_789</td>\n",
       "      <td>1</td>\n",
       "    </tr>\n",
       "  </tbody>\n",
       "</table>\n",
       "</div>"
      ],
      "text/plain": [
       "       patient_id_  SOURCE\n",
       "0  patient_id_4373       1\n",
       "1  patient_id_2204       1\n",
       "2    patient_id_93       1\n",
       "3   patient_id_798       1\n",
       "4   patient_id_789       1"
      ]
     },
     "execution_count": 146,
     "metadata": {},
     "output_type": "execute_result"
    }
   ],
   "source": [
    "samplesubmission.head()"
   ]
  },
  {
   "cell_type": "code",
   "execution_count": 147,
   "metadata": {},
   "outputs": [],
   "source": [
    "first_submission=samplesubmission.copy()"
   ]
  },
  {
   "cell_type": "code",
   "execution_count": 148,
   "metadata": {},
   "outputs": [
    {
     "data": {
      "text/html": [
       "<div>\n",
       "<style scoped>\n",
       "    .dataframe tbody tr th:only-of-type {\n",
       "        vertical-align: middle;\n",
       "    }\n",
       "\n",
       "    .dataframe tbody tr th {\n",
       "        vertical-align: top;\n",
       "    }\n",
       "\n",
       "    .dataframe thead th {\n",
       "        text-align: right;\n",
       "    }\n",
       "</style>\n",
       "<table border=\"1\" class=\"dataframe\">\n",
       "  <thead>\n",
       "    <tr style=\"text-align: right;\">\n",
       "      <th></th>\n",
       "      <th>patient_id_</th>\n",
       "      <th>SOURCE</th>\n",
       "    </tr>\n",
       "  </thead>\n",
       "  <tbody>\n",
       "    <tr>\n",
       "      <th>0</th>\n",
       "      <td>patient_id_4373</td>\n",
       "      <td>1</td>\n",
       "    </tr>\n",
       "    <tr>\n",
       "      <th>1</th>\n",
       "      <td>patient_id_2204</td>\n",
       "      <td>1</td>\n",
       "    </tr>\n",
       "    <tr>\n",
       "      <th>2</th>\n",
       "      <td>patient_id_93</td>\n",
       "      <td>1</td>\n",
       "    </tr>\n",
       "    <tr>\n",
       "      <th>3</th>\n",
       "      <td>patient_id_798</td>\n",
       "      <td>1</td>\n",
       "    </tr>\n",
       "    <tr>\n",
       "      <th>4</th>\n",
       "      <td>patient_id_789</td>\n",
       "      <td>1</td>\n",
       "    </tr>\n",
       "    <tr>\n",
       "      <th>...</th>\n",
       "      <td>...</td>\n",
       "      <td>...</td>\n",
       "    </tr>\n",
       "    <tr>\n",
       "      <th>1319</th>\n",
       "      <td>patient_id_2070</td>\n",
       "      <td>1</td>\n",
       "    </tr>\n",
       "    <tr>\n",
       "      <th>1320</th>\n",
       "      <td>patient_id_1789</td>\n",
       "      <td>1</td>\n",
       "    </tr>\n",
       "    <tr>\n",
       "      <th>1321</th>\n",
       "      <td>patient_id_1725</td>\n",
       "      <td>1</td>\n",
       "    </tr>\n",
       "    <tr>\n",
       "      <th>1322</th>\n",
       "      <td>patient_id_3707</td>\n",
       "      <td>1</td>\n",
       "    </tr>\n",
       "    <tr>\n",
       "      <th>1323</th>\n",
       "      <td>patient_id_3001</td>\n",
       "      <td>1</td>\n",
       "    </tr>\n",
       "  </tbody>\n",
       "</table>\n",
       "<p>1324 rows × 2 columns</p>\n",
       "</div>"
      ],
      "text/plain": [
       "          patient_id_  SOURCE\n",
       "0     patient_id_4373       1\n",
       "1     patient_id_2204       1\n",
       "2       patient_id_93       1\n",
       "3      patient_id_798       1\n",
       "4      patient_id_789       1\n",
       "...               ...     ...\n",
       "1319  patient_id_2070       1\n",
       "1320  patient_id_1789       1\n",
       "1321  patient_id_1725       1\n",
       "1322  patient_id_3707       1\n",
       "1323  patient_id_3001       1\n",
       "\n",
       "[1324 rows x 2 columns]"
      ]
     },
     "execution_count": 148,
     "metadata": {},
     "output_type": "execute_result"
    }
   ],
   "source": [
    "first_submission"
   ]
  },
  {
   "cell_type": "code",
   "execution_count": 154,
   "metadata": {},
   "outputs": [],
   "source": [
    "first_submission.SOURCE = logisticmodel.predict(testing)"
   ]
  },
  {
   "cell_type": "code",
   "execution_count": 158,
   "metadata": {},
   "outputs": [
    {
     "data": {
      "text/html": [
       "<div>\n",
       "<style scoped>\n",
       "    .dataframe tbody tr th:only-of-type {\n",
       "        vertical-align: middle;\n",
       "    }\n",
       "\n",
       "    .dataframe tbody tr th {\n",
       "        vertical-align: top;\n",
       "    }\n",
       "\n",
       "    .dataframe thead th {\n",
       "        text-align: right;\n",
       "    }\n",
       "</style>\n",
       "<table border=\"1\" class=\"dataframe\">\n",
       "  <thead>\n",
       "    <tr style=\"text-align: right;\">\n",
       "      <th></th>\n",
       "      <th>patient_id_</th>\n",
       "      <th>SOURCE</th>\n",
       "    </tr>\n",
       "  </thead>\n",
       "  <tbody>\n",
       "    <tr>\n",
       "      <th>0</th>\n",
       "      <td>patient_id_4373</td>\n",
       "      <td>0</td>\n",
       "    </tr>\n",
       "    <tr>\n",
       "      <th>1</th>\n",
       "      <td>patient_id_2204</td>\n",
       "      <td>1</td>\n",
       "    </tr>\n",
       "    <tr>\n",
       "      <th>2</th>\n",
       "      <td>patient_id_93</td>\n",
       "      <td>0</td>\n",
       "    </tr>\n",
       "    <tr>\n",
       "      <th>3</th>\n",
       "      <td>patient_id_798</td>\n",
       "      <td>0</td>\n",
       "    </tr>\n",
       "    <tr>\n",
       "      <th>4</th>\n",
       "      <td>patient_id_789</td>\n",
       "      <td>1</td>\n",
       "    </tr>\n",
       "  </tbody>\n",
       "</table>\n",
       "</div>"
      ],
      "text/plain": [
       "       patient_id_  SOURCE\n",
       "0  patient_id_4373       0\n",
       "1  patient_id_2204       1\n",
       "2    patient_id_93       0\n",
       "3   patient_id_798       0\n",
       "4   patient_id_789       1"
      ]
     },
     "execution_count": 158,
     "metadata": {},
     "output_type": "execute_result"
    }
   ],
   "source": [
    "first_submission.head()"
   ]
  },
  {
   "cell_type": "code",
   "execution_count": 159,
   "metadata": {},
   "outputs": [
    {
     "data": {
      "text/plain": [
       "<matplotlib.axes._subplots.AxesSubplot at 0x2185ce39308>"
      ]
     },
     "execution_count": 159,
     "metadata": {},
     "output_type": "execute_result"
    },
    {
     "data": {
      "image/png": "[encoded data removed]",
      "text/plain": [
       "<Figure size 432x288 with 1 Axes>"
      ]
     },
     "metadata": {},
     "output_type": "display_data"
    }
   ],
   "source": [
    "sns.countplot(first_submission.SOURCE)"
   ]
  },
  {
   "cell_type": "code",
   "execution_count": 162,
   "metadata": {},
   "outputs": [],
   "source": [
    "first_submission.to_csv('my-first_sub', index=False)"
   ]
  },
  {
   "cell_type": "markdown",
   "metadata": {},
   "source": [
    "# Random Forest CLassifier MODEL"
   ]
  },
  {
   "cell_type": "markdown",
   "metadata": {},
   "source": []
  },
  {
   "cell_type": "code",
   "execution_count": 186,
   "metadata": {},
   "outputs": [
    {
     "data": {
      "text/plain": [
       "RandomForestClassifier(bootstrap=True, ccp_alpha=0.0, class_weight=None,\n",
       "                       criterion='gini', max_depth=None, max_features='auto',\n",
       "                       max_leaf_nodes=None, max_samples=None,\n",
       "                       min_impurity_decrease=0.0, min_impurity_split=None,\n",
       "                       min_samples_leaf=1, min_samples_split=2,\n",
       "                       min_weight_fraction_leaf=0.0, n_estimators=100,\n",
       "                       n_jobs=None, oob_score=False, random_state=None,\n",
       "                       verbose=0, warm_start=False)"
      ]
     },
     "execution_count": 186,
     "metadata": {},
     "output_type": "execute_result"
    }
   ],
   "source": [
    "## Importing Random Forest regression model from sklearn\n",
    "\n",
    "from sklearn.ensemble import RandomForestClassifier\n",
    "RFmodel=RandomForestClassifier()\n",
    "RFmodel.fit(x_train, y_train)"
   ]
  },
  {
   "cell_type": "code",
   "execution_count": 188,
   "metadata": {},
   "outputs": [
    {
     "name": "stdout",
     "output_type": "stream",
     "text": [
      "Random Forest model Accuracy value is  0.75\n",
      "Random Forest model F1 value is  0.6608084358523726\n"
     ]
    }
   ],
   "source": [
    "RF_predict=RFmodel.predict(x_test)\n",
    "accuracy=metrics.accuracy_score(y_test, RF_predict)\n",
    "\n",
    "F1=metrics.f1_score(y_test, RF_predict)\n",
    "\n",
    "print(\"Random Forest model Accuracy value is \", accuracy)\n",
    "print(\"Random Forest model F1 value is \", F1)"
   ]
  },
  {
   "cell_type": "code",
   "execution_count": 189,
   "metadata": {},
   "outputs": [
    {
     "data": {
      "image/png": "[encoded data removed]",
      "text/plain": [
       "<Figure size 504x360 with 1 Axes>"
      ]
     },
     "metadata": {},
     "output_type": "display_data"
    }
   ],
   "source": [
    "ConfusionMatrix(y_test, RF_predict, label=[\"non positive\", \"positive\"])"
   ]
  },
  {
   "cell_type": "code",
   "execution_count": 168,
   "metadata": {},
   "outputs": [],
   "source": [
    "second_submission=samplesubmission.copy()\n",
    "second_submission.SOURCE = RFmodel.predict(testing)"
   ]
  },
  {
   "cell_type": "code",
   "execution_count": 190,
   "metadata": {},
   "outputs": [],
   "source": [
    "second_submission.to_csv('my-second_sub', index=False)"
   ]
  },
  {
   "cell_type": "code",
   "execution_count": 191,
   "metadata": {},
   "outputs": [
    {
     "data": {
      "text/html": [
       "<div>\n",
       "<style scoped>\n",
       "    .dataframe tbody tr th:only-of-type {\n",
       "        vertical-align: middle;\n",
       "    }\n",
       "\n",
       "    .dataframe tbody tr th {\n",
       "        vertical-align: top;\n",
       "    }\n",
       "\n",
       "    .dataframe thead th {\n",
       "        text-align: right;\n",
       "    }\n",
       "</style>\n",
       "<table border=\"1\" class=\"dataframe\">\n",
       "  <thead>\n",
       "    <tr style=\"text-align: right;\">\n",
       "      <th></th>\n",
       "      <th>patient_id_</th>\n",
       "      <th>SOURCE</th>\n",
       "    </tr>\n",
       "  </thead>\n",
       "  <tbody>\n",
       "    <tr>\n",
       "      <th>0</th>\n",
       "      <td>patient_id_4373</td>\n",
       "      <td>0</td>\n",
       "    </tr>\n",
       "    <tr>\n",
       "      <th>1</th>\n",
       "      <td>patient_id_2204</td>\n",
       "      <td>1</td>\n",
       "    </tr>\n",
       "    <tr>\n",
       "      <th>2</th>\n",
       "      <td>patient_id_93</td>\n",
       "      <td>0</td>\n",
       "    </tr>\n",
       "    <tr>\n",
       "      <th>3</th>\n",
       "      <td>patient_id_798</td>\n",
       "      <td>0</td>\n",
       "    </tr>\n",
       "    <tr>\n",
       "      <th>4</th>\n",
       "      <td>patient_id_789</td>\n",
       "      <td>0</td>\n",
       "    </tr>\n",
       "    <tr>\n",
       "      <th>...</th>\n",
       "      <td>...</td>\n",
       "      <td>...</td>\n",
       "    </tr>\n",
       "    <tr>\n",
       "      <th>1319</th>\n",
       "      <td>patient_id_2070</td>\n",
       "      <td>0</td>\n",
       "    </tr>\n",
       "    <tr>\n",
       "      <th>1320</th>\n",
       "      <td>patient_id_1789</td>\n",
       "      <td>0</td>\n",
       "    </tr>\n",
       "    <tr>\n",
       "      <th>1321</th>\n",
       "      <td>patient_id_1725</td>\n",
       "      <td>0</td>\n",
       "    </tr>\n",
       "    <tr>\n",
       "      <th>1322</th>\n",
       "      <td>patient_id_3707</td>\n",
       "      <td>0</td>\n",
       "    </tr>\n",
       "    <tr>\n",
       "      <th>1323</th>\n",
       "      <td>patient_id_3001</td>\n",
       "      <td>1</td>\n",
       "    </tr>\n",
       "  </tbody>\n",
       "</table>\n",
       "<p>1324 rows × 2 columns</p>\n",
       "</div>"
      ],
      "text/plain": [
       "          patient_id_  SOURCE\n",
       "0     patient_id_4373       0\n",
       "1     patient_id_2204       1\n",
       "2       patient_id_93       0\n",
       "3      patient_id_798       0\n",
       "4      patient_id_789       0\n",
       "...               ...     ...\n",
       "1319  patient_id_2070       0\n",
       "1320  patient_id_1789       0\n",
       "1321  patient_id_1725       0\n",
       "1322  patient_id_3707       0\n",
       "1323  patient_id_3001       1\n",
       "\n",
       "[1324 rows x 2 columns]"
      ]
     },
     "execution_count": 191,
     "metadata": {},
     "output_type": "execute_result"
    }
   ],
   "source": [
    "second_submission"
   ]
  },
  {
   "cell_type": "markdown",
   "metadata": {},
   "source": [
    "# Gradient Boost Clasifier Model"
   ]
  },
  {
   "cell_type": "code",
   "execution_count": 172,
   "metadata": {},
   "outputs": [
    {
     "data": {
      "text/plain": [
       "GradientBoostingClassifier(ccp_alpha=0.0, criterion='friedman_mse', init=None,\n",
       "                           learning_rate=0.1, loss='deviance', max_depth=3,\n",
       "                           max_features=None, max_leaf_nodes=None,\n",
       "                           min_impurity_decrease=0.0, min_impurity_split=None,\n",
       "                           min_samples_leaf=1, min_samples_split=2,\n",
       "                           min_weight_fraction_leaf=0.0, n_estimators=100,\n",
       "                           n_iter_no_change=None, presort='deprecated',\n",
       "                           random_state=None, subsample=1.0, tol=0.0001,\n",
       "                           validation_fraction=0.1, verbose=0,\n",
       "                           warm_start=False)"
      ]
     },
     "execution_count": 172,
     "metadata": {},
     "output_type": "execute_result"
    }
   ],
   "source": [
    "## Importing Gradient Boost Classifier regression model from sklearn\n",
    "\n",
    "from sklearn.ensemble import GradientBoostingClassifier\n",
    "GBCmodel=GradientBoostingClassifier()\n",
    "\n",
    "## Fitting Model\n",
    "GBCmodel.fit(x_train, y_train)"
   ]
  },
  {
   "cell_type": "code",
   "execution_count": 182,
   "metadata": {},
   "outputs": [
    {
     "name": "stdout",
     "output_type": "stream",
     "text": [
      "Random Forest model Accuracy value is  0.7642487046632125\n",
      "Random Forest model F1 value is  0.675\n"
     ]
    }
   ],
   "source": [
    "GBC_predict=GBCmodel.predict(x_test)\n",
    "accuracy=metrics.accuracy_score(y_test, GBC_predict)\n",
    "\n",
    "F1=metrics.f1_score(y_test, GBC_predict)\n",
    "\n",
    "print(\"Random Forest model Accuracy value is \", accuracy)\n",
    "print(\"Random Forest model F1 value is \", F1)\n",
    "\n"
   ]
  },
  {
   "cell_type": "code",
   "execution_count": 183,
   "metadata": {},
   "outputs": [
    {
     "data": {
      "image/png": "[encoded data removed]",
      "text/plain": [
       "<Figure size 504x360 with 1 Axes>"
      ]
     },
     "metadata": {},
     "output_type": "display_data"
    }
   ],
   "source": [
    "ConfusionMatrix(y_test,GBC_predict, label=[\"non positive\", \"positive\"])"
   ]
  },
  {
   "cell_type": "code",
   "execution_count": 175,
   "metadata": {},
   "outputs": [],
   "source": [
    "third_submission=samplesubmission.copy()\n",
    "third_submission.SOURCE = GBCmodel.predict(testing)"
   ]
  },
  {
   "cell_type": "code",
   "execution_count": 184,
   "metadata": {},
   "outputs": [],
   "source": [
    "third_submission.to_csv('my-third_sub', index=False)"
   ]
  },
  {
   "cell_type": "code",
   "execution_count": 185,
   "metadata": {},
   "outputs": [
    {
     "data": {
      "text/html": [
       "<div>\n",
       "<style scoped>\n",
       "    .dataframe tbody tr th:only-of-type {\n",
       "        vertical-align: middle;\n",
       "    }\n",
       "\n",
       "    .dataframe tbody tr th {\n",
       "        vertical-align: top;\n",
       "    }\n",
       "\n",
       "    .dataframe thead th {\n",
       "        text-align: right;\n",
       "    }\n",
       "</style>\n",
       "<table border=\"1\" class=\"dataframe\">\n",
       "  <thead>\n",
       "    <tr style=\"text-align: right;\">\n",
       "      <th></th>\n",
       "      <th>patient_id_</th>\n",
       "      <th>SOURCE</th>\n",
       "    </tr>\n",
       "  </thead>\n",
       "  <tbody>\n",
       "    <tr>\n",
       "      <th>0</th>\n",
       "      <td>patient_id_4373</td>\n",
       "      <td>0</td>\n",
       "    </tr>\n",
       "    <tr>\n",
       "      <th>1</th>\n",
       "      <td>patient_id_2204</td>\n",
       "      <td>1</td>\n",
       "    </tr>\n",
       "    <tr>\n",
       "      <th>2</th>\n",
       "      <td>patient_id_93</td>\n",
       "      <td>0</td>\n",
       "    </tr>\n",
       "    <tr>\n",
       "      <th>3</th>\n",
       "      <td>patient_id_798</td>\n",
       "      <td>0</td>\n",
       "    </tr>\n",
       "    <tr>\n",
       "      <th>4</th>\n",
       "      <td>patient_id_789</td>\n",
       "      <td>0</td>\n",
       "    </tr>\n",
       "    <tr>\n",
       "      <th>...</th>\n",
       "      <td>...</td>\n",
       "      <td>...</td>\n",
       "    </tr>\n",
       "    <tr>\n",
       "      <th>1319</th>\n",
       "      <td>patient_id_2070</td>\n",
       "      <td>0</td>\n",
       "    </tr>\n",
       "    <tr>\n",
       "      <th>1320</th>\n",
       "      <td>patient_id_1789</td>\n",
       "      <td>0</td>\n",
       "    </tr>\n",
       "    <tr>\n",
       "      <th>1321</th>\n",
       "      <td>patient_id_1725</td>\n",
       "      <td>0</td>\n",
       "    </tr>\n",
       "    <tr>\n",
       "      <th>1322</th>\n",
       "      <td>patient_id_3707</td>\n",
       "      <td>0</td>\n",
       "    </tr>\n",
       "    <tr>\n",
       "      <th>1323</th>\n",
       "      <td>patient_id_3001</td>\n",
       "      <td>1</td>\n",
       "    </tr>\n",
       "  </tbody>\n",
       "</table>\n",
       "<p>1324 rows × 2 columns</p>\n",
       "</div>"
      ],
      "text/plain": [
       "          patient_id_  SOURCE\n",
       "0     patient_id_4373       0\n",
       "1     patient_id_2204       1\n",
       "2       patient_id_93       0\n",
       "3      patient_id_798       0\n",
       "4      patient_id_789       0\n",
       "...               ...     ...\n",
       "1319  patient_id_2070       0\n",
       "1320  patient_id_1789       0\n",
       "1321  patient_id_1725       0\n",
       "1322  patient_id_3707       0\n",
       "1323  patient_id_3001       1\n",
       "\n",
       "[1324 rows x 2 columns]"
      ]
     },
     "execution_count": 185,
     "metadata": {},
     "output_type": "execute_result"
    }
   ],
   "source": [
    "third_submission"
   ]
  },
  {
   "cell_type": "markdown",
   "metadata": {},
   "source": [
    "# XGBoost Classifier Model"
   ]
  },
  {
   "cell_type": "code",
   "execution_count": 194,
   "metadata": {},
   "outputs": [
    {
     "name": "stderr",
     "output_type": "stream",
     "text": [
      "C:\\Users\\hp\\anaconda3\\lib\\site-packages\\xgboost\\sklearn.py:1146: UserWarning: The use of label encoder in XGBClassifier is deprecated and will be removed in a future release. To remove this warning, do the following: 1) Pass option use_label_encoder=False when constructing XGBClassifier object; and 2) Encode your labels (y) as integers starting with 0, i.e. 0, 1, 2, ..., [num_class - 1].\n",
      "  warnings.warn(label_encoder_deprecation_msg, UserWarning)\n"
     ]
    },
    {
     "name": "stdout",
     "output_type": "stream",
     "text": [
      "[19:17:38] WARNING: C:/Users/Administrator/workspace/xgboost-win64_release_1.4.0/src/learner.cc:1095: Starting in XGBoost 1.3.0, the default evaluation metric used with the objective 'binary:logistic' was changed from 'error' to 'logloss'. Explicitly set eval_metric if you'd like to restore the old behavior.\n"
     ]
    },
    {
     "data": {
      "text/plain": [
       "XGBClassifier(base_score=0.5, booster='gbtree', colsample_bylevel=1,\n",
       "              colsample_bynode=1, colsample_bytree=1, gamma=0, gpu_id=-1,\n",
       "              importance_type='gain', interaction_constraints='',\n",
       "              learning_rate=0.300000012, max_delta_step=0, max_depth=6,\n",
       "              min_child_weight=1, missing=nan, monotone_constraints='()',\n",
       "              n_estimators=100, n_jobs=4, num_parallel_tree=1,\n",
       "              objective='binary:logistic', random_state=0, reg_alpha=0,\n",
       "              reg_lambda=1, scale_pos_weight=1, subsample=1,\n",
       "              tree_method='exact', use_label_encoder=True,\n",
       "              validate_parameters=1, verbosity=None)"
      ]
     },
     "execution_count": 194,
     "metadata": {},
     "output_type": "execute_result"
    }
   ],
   "source": [
    "## Importing XGboost regression model from sklearn\n",
    "\n",
    "from xgboost import XGBClassifier\n",
    "XGBmodel=XGBClassifier()\n",
    "\n",
    "##fitting model\n",
    "XGBmodel.fit(x_train, y_train)"
   ]
  },
  {
   "cell_type": "code",
   "execution_count": 207,
   "metadata": {},
   "outputs": [
    {
     "name": "stdout",
     "output_type": "stream",
     "text": [
      "Random Forest model Accuracy value is  0.7435233160621761\n",
      "Random Forest model F1 value is  0.6574394463667821\n"
     ]
    }
   ],
   "source": [
    "XGB_predict=XGBmodel.predict(x_test)\n",
    "accuracy=metrics.accuracy_score(y_test, XGB_predict)\n",
    "\n",
    "##Accuraccy Test\n",
    "\n",
    "F1=metrics.f1_score(y_test, XGB_predict)\n",
    "print(\"Random Forest model Accuracy value is \", accuracy)\n",
    "print(\"Random Forest model F1 value is \", F1)"
   ]
  },
  {
   "cell_type": "code",
   "execution_count": 208,
   "metadata": {},
   "outputs": [
    {
     "data": {
      "image/png": "[encoded data removed]",
      "text/plain": [
       "<Figure size 504x360 with 1 Axes>"
      ]
     },
     "metadata": {},
     "output_type": "display_data"
    }
   ],
   "source": [
    "ConfusionMatrix(y_test,XGB_predict, label=[\"non positive\", \"positive\"])"
   ]
  },
  {
   "cell_type": "code",
   "execution_count": 209,
   "metadata": {},
   "outputs": [],
   "source": [
    "fourth_submission=samplesubmission.copy()\n",
    "fourth_submission.SOURCE = XGBmodel.predict(testing)"
   ]
  },
  {
   "cell_type": "code",
   "execution_count": 200,
   "metadata": {},
   "outputs": [],
   "source": [
    "fourth_submission.to_csv('my-fourth_sub', index=False)"
   ]
  },
  {
   "cell_type": "code",
   "execution_count": 201,
   "metadata": {},
   "outputs": [
    {
     "data": {
      "text/html": [
       "<div>\n",
       "<style scoped>\n",
       "    .dataframe tbody tr th:only-of-type {\n",
       "        vertical-align: middle;\n",
       "    }\n",
       "\n",
       "    .dataframe tbody tr th {\n",
       "        vertical-align: top;\n",
       "    }\n",
       "\n",
       "    .dataframe thead th {\n",
       "        text-align: right;\n",
       "    }\n",
       "</style>\n",
       "<table border=\"1\" class=\"dataframe\">\n",
       "  <thead>\n",
       "    <tr style=\"text-align: right;\">\n",
       "      <th></th>\n",
       "      <th>patient_id_</th>\n",
       "      <th>SOURCE</th>\n",
       "    </tr>\n",
       "  </thead>\n",
       "  <tbody>\n",
       "    <tr>\n",
       "      <th>0</th>\n",
       "      <td>patient_id_4373</td>\n",
       "      <td>0</td>\n",
       "    </tr>\n",
       "    <tr>\n",
       "      <th>1</th>\n",
       "      <td>patient_id_2204</td>\n",
       "      <td>1</td>\n",
       "    </tr>\n",
       "    <tr>\n",
       "      <th>2</th>\n",
       "      <td>patient_id_93</td>\n",
       "      <td>0</td>\n",
       "    </tr>\n",
       "    <tr>\n",
       "      <th>3</th>\n",
       "      <td>patient_id_798</td>\n",
       "      <td>0</td>\n",
       "    </tr>\n",
       "    <tr>\n",
       "      <th>4</th>\n",
       "      <td>patient_id_789</td>\n",
       "      <td>0</td>\n",
       "    </tr>\n",
       "    <tr>\n",
       "      <th>...</th>\n",
       "      <td>...</td>\n",
       "      <td>...</td>\n",
       "    </tr>\n",
       "    <tr>\n",
       "      <th>1319</th>\n",
       "      <td>patient_id_2070</td>\n",
       "      <td>0</td>\n",
       "    </tr>\n",
       "    <tr>\n",
       "      <th>1320</th>\n",
       "      <td>patient_id_1789</td>\n",
       "      <td>0</td>\n",
       "    </tr>\n",
       "    <tr>\n",
       "      <th>1321</th>\n",
       "      <td>patient_id_1725</td>\n",
       "      <td>0</td>\n",
       "    </tr>\n",
       "    <tr>\n",
       "      <th>1322</th>\n",
       "      <td>patient_id_3707</td>\n",
       "      <td>1</td>\n",
       "    </tr>\n",
       "    <tr>\n",
       "      <th>1323</th>\n",
       "      <td>patient_id_3001</td>\n",
       "      <td>1</td>\n",
       "    </tr>\n",
       "  </tbody>\n",
       "</table>\n",
       "<p>1324 rows × 2 columns</p>\n",
       "</div>"
      ],
      "text/plain": [
       "          patient_id_  SOURCE\n",
       "0     patient_id_4373       0\n",
       "1     patient_id_2204       1\n",
       "2       patient_id_93       0\n",
       "3      patient_id_798       0\n",
       "4      patient_id_789       0\n",
       "...               ...     ...\n",
       "1319  patient_id_2070       0\n",
       "1320  patient_id_1789       0\n",
       "1321  patient_id_1725       0\n",
       "1322  patient_id_3707       1\n",
       "1323  patient_id_3001       1\n",
       "\n",
       "[1324 rows x 2 columns]"
      ]
     },
     "execution_count": 201,
     "metadata": {},
     "output_type": "execute_result"
    }
   ],
   "source": [
    "fourth_submission"
   ]
  },
  {
   "cell_type": "markdown",
   "metadata": {},
   "source": [
    "# DECISION TREE MODEL"
   ]
  },
  {
   "cell_type": "code",
   "execution_count": 204,
   "metadata": {},
   "outputs": [
    {
     "data": {
      "text/plain": [
       "DecisionTreeClassifier(ccp_alpha=0.0, class_weight=None, criterion='gini',\n",
       "                       max_depth=None, max_features=None, max_leaf_nodes=None,\n",
       "                       min_impurity_decrease=0.0, min_impurity_split=None,\n",
       "                       min_samples_leaf=1, min_samples_split=2,\n",
       "                       min_weight_fraction_leaf=0.0, presort='deprecated',\n",
       "                       random_state=None, splitter='best')"
      ]
     },
     "execution_count": 204,
     "metadata": {},
     "output_type": "execute_result"
    }
   ],
   "source": [
    "##importing decison tree classifier from sklearn\n",
    "from sklearn.tree import DecisionTreeClassifier\n",
    "Decisionmodel=DecisionTreeClassifier()\n",
    "\n",
    "#Training data for predicion \n",
    "Decisionmodel.fit(x_train, y_train)"
   ]
  },
  {
   "cell_type": "code",
   "execution_count": 206,
   "metadata": {},
   "outputs": [
    {
     "name": "stdout",
     "output_type": "stream",
     "text": [
      "Random Forest model Accuracy value is  0.6541450777202072\n",
      "Random Forest model F1 value is  0.5847589424572318\n"
     ]
    }
   ],
   "source": [
    "##prediction\n",
    "Decision_predict=Decisionmodel.predict(x_test)\n",
    "accuracy=metrics.accuracy_score(y_test, Decision_predict)\n",
    "\n",
    "\n",
    "##Accuraccy Test\n",
    "\n",
    "F1=metrics.f1_score(y_test, Decision_predict)\n",
    "print(\"Random Forest model Accuracy value is \", accuracy)\n",
    "print(\"Random Forest model F1 value is \", F1)"
   ]
  },
  {
   "cell_type": "code",
   "execution_count": null,
   "metadata": {},
   "outputs": [],
   "source": []
  }
 ],
 "metadata": {
  "kernelspec": {
   "display_name": "Python 3 (ipykernel)",
   "language": "python",
   "name": "python3"
  },
  "language_info": {
   "codemirror_mode": {
    "name": "ipython",
    "version": 3
   },
   "file_extension": ".py",
   "mimetype": "text/x-python",
   "name": "python",
   "nbconvert_exporter": "python",
   "pygments_lexer": "ipython3",
   "version": "3.9.13"
  }
 },
 "nbformat": 4,
 "nbformat_minor": 4
}
